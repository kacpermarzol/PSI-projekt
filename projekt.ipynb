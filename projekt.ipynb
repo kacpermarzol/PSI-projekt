{
 "cells": [
  {
   "cell_type": "markdown",
   "source": [
    "# Podstawy Sztucznej Inteligencji - Projekt Kacper Marzol"
   ],
   "metadata": {
    "collapsed": false
   }
  },
  {
   "cell_type": "markdown",
   "source": [
    "Celem tego projektu jest klasyfikacja piosenek na podstawie ich kilku cech. Zbiór danych składa się z 278 tysięcy piosenek z serwisu Spotify. Dla szybkości obliczeń, użyjemy 10% danych"
   ],
   "metadata": {
    "collapsed": false
   }
  },
  {
   "cell_type": "code",
   "execution_count": 21,
   "metadata": {
    "collapsed": true
   },
   "outputs": [
    {
     "name": "stdout",
     "output_type": "stream",
     "text": [
      "(27800, 15)\n"
     ]
    },
    {
     "data": {
      "text/plain": "   Unnamed: 0.1  Unnamed: 0  duration (ms)  danceability  energy  loudness  \\\n0             0           0       195000.0         0.611   0.614    -8.815   \n1             1           1       194641.0         0.638   0.781    -6.848   \n2             2           2       217573.0         0.560   0.810    -8.029   \n3             3           3       443478.0         0.525   0.699    -4.571   \n4             4           4       225862.0         0.367   0.771    -5.863   \n\n   speechiness  acousticness  instrumentalness  liveness  valence    tempo  \\\n0       0.0672        0.0169          0.000794    0.7530    0.520  128.050   \n1       0.0285        0.0118          0.009530    0.3490    0.250  122.985   \n2       0.0872        0.0071          0.000008    0.2410    0.247  170.044   \n3       0.0353        0.0178          0.000088    0.0888    0.199   92.011   \n4       0.1060        0.3650          0.000001    0.0965    0.163  115.917   \n\n      spec_rate  labels                                   uri  \n0  3.446154e-07       2  spotify:track:3v6sBj3swihU8pXQQHhDZo  \n1  1.464234e-07       1  spotify:track:7KCWmFdw0TzoJbKtqRRzJO  \n2  4.007850e-07       1  spotify:track:2CY92qejUrhyPUASawNVRr  \n3  7.959809e-08       0  spotify:track:11BPfwVbB7vok7KfjBeW4k  \n4  4.693131e-07       1  spotify:track:3yUJKPsjvThlcQWTS9ttYx  ",
      "text/html": "<div>\n<style scoped>\n    .dataframe tbody tr th:only-of-type {\n        vertical-align: middle;\n    }\n\n    .dataframe tbody tr th {\n        vertical-align: top;\n    }\n\n    .dataframe thead th {\n        text-align: right;\n    }\n</style>\n<table border=\"1\" class=\"dataframe\">\n  <thead>\n    <tr style=\"text-align: right;\">\n      <th></th>\n      <th>Unnamed: 0.1</th>\n      <th>Unnamed: 0</th>\n      <th>duration (ms)</th>\n      <th>danceability</th>\n      <th>energy</th>\n      <th>loudness</th>\n      <th>speechiness</th>\n      <th>acousticness</th>\n      <th>instrumentalness</th>\n      <th>liveness</th>\n      <th>valence</th>\n      <th>tempo</th>\n      <th>spec_rate</th>\n      <th>labels</th>\n      <th>uri</th>\n    </tr>\n  </thead>\n  <tbody>\n    <tr>\n      <th>0</th>\n      <td>0</td>\n      <td>0</td>\n      <td>195000.0</td>\n      <td>0.611</td>\n      <td>0.614</td>\n      <td>-8.815</td>\n      <td>0.0672</td>\n      <td>0.0169</td>\n      <td>0.000794</td>\n      <td>0.7530</td>\n      <td>0.520</td>\n      <td>128.050</td>\n      <td>3.446154e-07</td>\n      <td>2</td>\n      <td>spotify:track:3v6sBj3swihU8pXQQHhDZo</td>\n    </tr>\n    <tr>\n      <th>1</th>\n      <td>1</td>\n      <td>1</td>\n      <td>194641.0</td>\n      <td>0.638</td>\n      <td>0.781</td>\n      <td>-6.848</td>\n      <td>0.0285</td>\n      <td>0.0118</td>\n      <td>0.009530</td>\n      <td>0.3490</td>\n      <td>0.250</td>\n      <td>122.985</td>\n      <td>1.464234e-07</td>\n      <td>1</td>\n      <td>spotify:track:7KCWmFdw0TzoJbKtqRRzJO</td>\n    </tr>\n    <tr>\n      <th>2</th>\n      <td>2</td>\n      <td>2</td>\n      <td>217573.0</td>\n      <td>0.560</td>\n      <td>0.810</td>\n      <td>-8.029</td>\n      <td>0.0872</td>\n      <td>0.0071</td>\n      <td>0.000008</td>\n      <td>0.2410</td>\n      <td>0.247</td>\n      <td>170.044</td>\n      <td>4.007850e-07</td>\n      <td>1</td>\n      <td>spotify:track:2CY92qejUrhyPUASawNVRr</td>\n    </tr>\n    <tr>\n      <th>3</th>\n      <td>3</td>\n      <td>3</td>\n      <td>443478.0</td>\n      <td>0.525</td>\n      <td>0.699</td>\n      <td>-4.571</td>\n      <td>0.0353</td>\n      <td>0.0178</td>\n      <td>0.000088</td>\n      <td>0.0888</td>\n      <td>0.199</td>\n      <td>92.011</td>\n      <td>7.959809e-08</td>\n      <td>0</td>\n      <td>spotify:track:11BPfwVbB7vok7KfjBeW4k</td>\n    </tr>\n    <tr>\n      <th>4</th>\n      <td>4</td>\n      <td>4</td>\n      <td>225862.0</td>\n      <td>0.367</td>\n      <td>0.771</td>\n      <td>-5.863</td>\n      <td>0.1060</td>\n      <td>0.3650</td>\n      <td>0.000001</td>\n      <td>0.0965</td>\n      <td>0.163</td>\n      <td>115.917</td>\n      <td>4.693131e-07</td>\n      <td>1</td>\n      <td>spotify:track:3yUJKPsjvThlcQWTS9ttYx</td>\n    </tr>\n  </tbody>\n</table>\n</div>"
     },
     "execution_count": 21,
     "metadata": {},
     "output_type": "execute_result"
    }
   ],
   "source": [
    "import pandas as pd\n",
    "\n",
    "data = pd.read_csv(\"278k_labelled_uri.csv\")\n",
    "data=data.iloc[:27800, :]\n",
    "print(data.shape)\n",
    "data.head()"
   ]
  },
  {
   "cell_type": "code",
   "execution_count": 22,
   "outputs": [
    {
     "data": {
      "text/plain": "Index(['Unnamed: 0.1', 'Unnamed: 0', 'duration (ms)', 'danceability', 'energy',\n       'loudness', 'speechiness', 'acousticness', 'instrumentalness',\n       'liveness', 'valence', 'tempo', 'spec_rate', 'labels', 'uri'],\n      dtype='object')"
     },
     "execution_count": 22,
     "metadata": {},
     "output_type": "execute_result"
    }
   ],
   "source": [
    "data.columns"
   ],
   "metadata": {
    "collapsed": false
   }
  },
  {
   "cell_type": "markdown",
   "source": [
    "Acousticness: miara akustyczności od 0 do 1\n",
    "Danceability: miara taneczności od 0 do 1\n",
    "Energy: miara energiczności od 0 do 1\n",
    "Instrumentalness: miara instrumentalności od 0 do 1\n",
    "Liveness: miara obecności publiki w nagraniu od 0 do 1\n",
    "Loudness: miara głośnośći w decybelach (-60 do 0 decybeli)\n",
    "Speechiness: miara słów w piosence od 0 do 1\n",
    "Valence: miara od 0 do 1 opisująca pozytywność przekazywaną przez piosenkę\n",
    "Tempo: tempo piosenki w BMP (uderzeń na minutę)"
   ],
   "metadata": {
    "collapsed": false
   }
  },
  {
   "cell_type": "code",
   "execution_count": 23,
   "outputs": [
    {
     "data": {
      "text/plain": "0    8707\n1    8408\n2    8201\n3    2484\nName: labels, dtype: int64"
     },
     "execution_count": 23,
     "metadata": {},
     "output_type": "execute_result"
    }
   ],
   "source": [
    "data.labels.value_counts()"
   ],
   "metadata": {
    "collapsed": false
   }
  },
  {
   "cell_type": "markdown",
   "source": [
    "0 - piosenka smutna\n",
    "1 - piosenka wesoła\n",
    "2 - piosenka energetyczna\n",
    "3 - piosenka spokojna"
   ],
   "metadata": {
    "collapsed": false
   }
  },
  {
   "cell_type": "markdown",
   "source": [
    "Usuniemy zbędne kolumny, \"uri\", ponieważ URL piosenki nie jest potrzebny oraz dwie pierwsze kolumny"
   ],
   "metadata": {
    "collapsed": false
   }
  },
  {
   "cell_type": "code",
   "execution_count": 24,
   "outputs": [],
   "source": [
    "cols=[\"Unnamed: 0.1\", \"Unnamed: 0\",\"uri\"]\n",
    "data=data.drop(cols ,axis=1)"
   ],
   "metadata": {
    "collapsed": false
   }
  },
  {
   "cell_type": "code",
   "execution_count": 25,
   "outputs": [
    {
     "data": {
      "text/plain": "   duration (ms)  danceability  energy  loudness  speechiness  acousticness  \\\n0       195000.0         0.611   0.614    -8.815       0.0672        0.0169   \n1       194641.0         0.638   0.781    -6.848       0.0285        0.0118   \n2       217573.0         0.560   0.810    -8.029       0.0872        0.0071   \n3       443478.0         0.525   0.699    -4.571       0.0353        0.0178   \n4       225862.0         0.367   0.771    -5.863       0.1060        0.3650   \n\n   instrumentalness  liveness  valence    tempo     spec_rate  labels  \n0          0.000794    0.7530    0.520  128.050  3.446154e-07       2  \n1          0.009530    0.3490    0.250  122.985  1.464234e-07       1  \n2          0.000008    0.2410    0.247  170.044  4.007850e-07       1  \n3          0.000088    0.0888    0.199   92.011  7.959809e-08       0  \n4          0.000001    0.0965    0.163  115.917  4.693131e-07       1  ",
      "text/html": "<div>\n<style scoped>\n    .dataframe tbody tr th:only-of-type {\n        vertical-align: middle;\n    }\n\n    .dataframe tbody tr th {\n        vertical-align: top;\n    }\n\n    .dataframe thead th {\n        text-align: right;\n    }\n</style>\n<table border=\"1\" class=\"dataframe\">\n  <thead>\n    <tr style=\"text-align: right;\">\n      <th></th>\n      <th>duration (ms)</th>\n      <th>danceability</th>\n      <th>energy</th>\n      <th>loudness</th>\n      <th>speechiness</th>\n      <th>acousticness</th>\n      <th>instrumentalness</th>\n      <th>liveness</th>\n      <th>valence</th>\n      <th>tempo</th>\n      <th>spec_rate</th>\n      <th>labels</th>\n    </tr>\n  </thead>\n  <tbody>\n    <tr>\n      <th>0</th>\n      <td>195000.0</td>\n      <td>0.611</td>\n      <td>0.614</td>\n      <td>-8.815</td>\n      <td>0.0672</td>\n      <td>0.0169</td>\n      <td>0.000794</td>\n      <td>0.7530</td>\n      <td>0.520</td>\n      <td>128.050</td>\n      <td>3.446154e-07</td>\n      <td>2</td>\n    </tr>\n    <tr>\n      <th>1</th>\n      <td>194641.0</td>\n      <td>0.638</td>\n      <td>0.781</td>\n      <td>-6.848</td>\n      <td>0.0285</td>\n      <td>0.0118</td>\n      <td>0.009530</td>\n      <td>0.3490</td>\n      <td>0.250</td>\n      <td>122.985</td>\n      <td>1.464234e-07</td>\n      <td>1</td>\n    </tr>\n    <tr>\n      <th>2</th>\n      <td>217573.0</td>\n      <td>0.560</td>\n      <td>0.810</td>\n      <td>-8.029</td>\n      <td>0.0872</td>\n      <td>0.0071</td>\n      <td>0.000008</td>\n      <td>0.2410</td>\n      <td>0.247</td>\n      <td>170.044</td>\n      <td>4.007850e-07</td>\n      <td>1</td>\n    </tr>\n    <tr>\n      <th>3</th>\n      <td>443478.0</td>\n      <td>0.525</td>\n      <td>0.699</td>\n      <td>-4.571</td>\n      <td>0.0353</td>\n      <td>0.0178</td>\n      <td>0.000088</td>\n      <td>0.0888</td>\n      <td>0.199</td>\n      <td>92.011</td>\n      <td>7.959809e-08</td>\n      <td>0</td>\n    </tr>\n    <tr>\n      <th>4</th>\n      <td>225862.0</td>\n      <td>0.367</td>\n      <td>0.771</td>\n      <td>-5.863</td>\n      <td>0.1060</td>\n      <td>0.3650</td>\n      <td>0.000001</td>\n      <td>0.0965</td>\n      <td>0.163</td>\n      <td>115.917</td>\n      <td>4.693131e-07</td>\n      <td>1</td>\n    </tr>\n  </tbody>\n</table>\n</div>"
     },
     "execution_count": 25,
     "metadata": {},
     "output_type": "execute_result"
    }
   ],
   "source": [
    "data.head()"
   ],
   "metadata": {
    "collapsed": false
   }
  },
  {
   "cell_type": "markdown",
   "source": [
    "Dodamy trochę nanów do zbioru"
   ],
   "metadata": {
    "collapsed": false
   }
  },
  {
   "cell_type": "code",
   "execution_count": 26,
   "outputs": [
    {
     "data": {
      "text/plain": "duration (ms)       2867\ndanceability        2767\nenergy              2797\nloudness            2670\nspeechiness         2709\nacousticness        2741\ninstrumentalness    2801\nliveness            2806\nvalence             2799\ntempo               2808\nspec_rate           2815\ndtype: int64"
     },
     "execution_count": 26,
     "metadata": {},
     "output_type": "execute_result"
    }
   ],
   "source": [
    "from sklearn.model_selection import train_test_split\n",
    "import numpy as np\n",
    "import random\n",
    "\n",
    "X = data.drop('labels', axis=1)\n",
    "y = data.labels\n",
    "\n",
    "ix = [(row, col) for row in range(X.shape[0]) for col in range(X.shape[1])]\n",
    "for row, col in random.sample(ix, int(round(.1*len(ix)))):\n",
    "    X.iat[row, col] = np.nan\n",
    "\n",
    "X.isna().sum()"
   ],
   "metadata": {
    "collapsed": false
   }
  },
  {
   "cell_type": "markdown",
   "source": [
    "Podzielimy zbiór na część treningową, walidacyjną i testową:"
   ],
   "metadata": {
    "collapsed": false
   }
  },
  {
   "cell_type": "code",
   "execution_count": 27,
   "outputs": [
    {
     "name": "stdout",
     "output_type": "stream",
     "text": [
      "(22240, 11)\n",
      "(22240,)\n",
      "(2780, 11)\n",
      "(2780, 11)\n"
     ]
    }
   ],
   "source": [
    "X_train, X_rem, y_train, y_rem = train_test_split(X,y, train_size=0.8)\n",
    "X_val, X_test, y_val, y_test = train_test_split(X_rem,y_rem, test_size=0.5)\n",
    "\n",
    "print(X_train.shape)\n",
    "print(y_train.shape)\n",
    "print(X_test.shape)\n",
    "print(X_val.shape)"
   ],
   "metadata": {
    "collapsed": false
   }
  },
  {
   "cell_type": "code",
   "execution_count": 28,
   "outputs": [],
   "source": [
    "import seaborn as sns\n",
    "import matplotlib.pyplot as plt\n",
    "\n",
    "# xplot=X_train.iloc[:50, :]\n",
    "# sns.pairplot(xplot)\n",
    "# plt.show()"
   ],
   "metadata": {
    "collapsed": false
   }
  },
  {
   "cell_type": "markdown",
   "source": [
    "Nauczymy kilka modeli"
   ],
   "metadata": {
    "collapsed": false
   }
  },
  {
   "cell_type": "code",
   "execution_count": 29,
   "outputs": [],
   "source": [
    "from sklearn.pipeline import Pipeline\n",
    "from sklearn.impute import SimpleImputer\n",
    "\n",
    "pipeline = Pipeline([(\"imputer\", SimpleImputer(strategy=\"median\"))])"
   ],
   "metadata": {
    "collapsed": false
   }
  },
  {
   "cell_type": "markdown",
   "source": [
    "# Logistic Regression"
   ],
   "metadata": {
    "collapsed": false
   }
  },
  {
   "cell_type": "code",
   "execution_count": 30,
   "outputs": [],
   "source": [
    "models=[]\n",
    "model_names=[]\n",
    "accuracy=[]\n",
    "f1=[]\n"
   ],
   "metadata": {
    "collapsed": false
   }
  },
  {
   "cell_type": "code",
   "execution_count": 31,
   "outputs": [],
   "source": [
    "from sklearn.preprocessing import StandardScaler\n",
    "from sklearn.model_selection import GridSearchCV\n",
    "from sklearn.pipeline import make_pipeline\n",
    "from sklearn.metrics import accuracy_score\n",
    "\n",
    "def pipeline_maker(model):\n",
    "    return make_pipeline(SimpleImputer(strategy=\"median\"), StandardScaler(),model)\n",
    "\n",
    "def test (model, param_grid_):\n",
    "    pipe=pipeline_maker(model)\n",
    "    search=GridSearchCV(pipe, param_grid=param_grid_,scoring='accuracy')\n",
    "    search.fit(X_train, y_train)\n",
    "    return search.best_estimator_, search.cv_results_"
   ],
   "metadata": {
    "collapsed": false
   }
  },
  {
   "cell_type": "code",
   "execution_count": 32,
   "outputs": [],
   "source": [
    "from sklearn.linear_model import LogisticRegression\n",
    "\n",
    "logistic=LogisticRegression()\n",
    "\n",
    "param_grid={\n",
    "    'simpleimputer__strategy': ['mean', 'median'],\n",
    "    \"logisticregression__C\": [0.0001,0.001,0.01,0.1,1,10,100,1000]\n",
    "}\n",
    "\n",
    "logistic, scores = test(logistic, param_grid)\n",
    "\n",
    "results = pd.DataFrame(scores)\n",
    "\n",
    "models.append(logistic)\n",
    "model_names.append(\"Logistic Regression\")\n",
    "accuracy.append(accuracy_score(y_val,logistic.predict(X_val)))"
   ],
   "metadata": {
    "collapsed": false
   }
  },
  {
   "cell_type": "code",
   "execution_count": 33,
   "outputs": [],
   "source": [
    "def heatmap(values, xlabel, ylabel, xticklabels, yticklabels, cmap=None,\n",
    "            vmin=None, vmax=None, ax=None, fmt=\"%0.2f\"):\n",
    "    if ax is None:\n",
    "        ax = plt.gca()\n",
    "    # plot the mean cross-validation scores\n",
    "    img = ax.pcolor(values, cmap=cmap, vmin=vmin, vmax=vmax)\n",
    "    img.update_scalarmappable()\n",
    "    ax.set_xlabel(xlabel)\n",
    "    ax.set_ylabel(ylabel)\n",
    "    ax.set_xticks(np.arange(len(xticklabels)) + .5)\n",
    "    ax.set_yticks(np.arange(len(yticklabels)) + .5)\n",
    "    ax.set_xticklabels(xticklabels)\n",
    "    ax.set_yticklabels(yticklabels)\n",
    "    ax.set_aspect(1)\n",
    "\n",
    "    for p, color, value in zip(img.get_paths(), img.get_facecolors(),\n",
    "                               img.get_array()):\n",
    "        x, y = p.vertices[:-2, :].mean(0)\n",
    "        if np.mean(color[:3]) > 0.5:\n",
    "            c = 'k'\n",
    "        else:\n",
    "            c = 'w'\n",
    "        ax.text(x, y, fmt % value, color=c, ha=\"center\", va=\"center\")\n",
    "    return img"
   ],
   "metadata": {
    "collapsed": false
   }
  },
  {
   "cell_type": "code",
   "execution_count": 34,
   "outputs": [
    {
     "name": "stdout",
     "output_type": "stream",
     "text": [
      "Pipeline(steps=[('simpleimputer', SimpleImputer(strategy='median')),\n",
      "                ('standardscaler', StandardScaler()),\n",
      "                ('logisticregression', LogisticRegression(C=10))])\n"
     ]
    },
    {
     "data": {
      "text/plain": "<Figure size 640x480 with 1 Axes>",
      "image/png": "[encoded data removed]"
     },
     "metadata": {},
     "output_type": "display_data"
    }
   ],
   "source": [
    "print(logistic)\n",
    "scores = np.array(results.mean_test_score).reshape(8, 2, 1)\n",
    "scores = scores[:,:,0]\n",
    "# plot the mean cross-validation scores\n",
    "heatmap(scores, xlabel='simpleimputer__strategy', xticklabels=param_grid['simpleimputer__strategy'], ylabel='logisticregression__C', yticklabels=param_grid['logisticregression__C'], cmap=\"viridis\")\n",
    "plt.show()\n",
    "\n",
    "plt.show()"
   ],
   "metadata": {
    "collapsed": false
   }
  },
  {
   "cell_type": "markdown",
   "source": [
    "# Random Forests"
   ],
   "metadata": {
    "collapsed": false
   }
  },
  {
   "cell_type": "code",
   "execution_count": 35,
   "outputs": [],
   "source": [
    "from sklearn.ensemble import RandomForestClassifier\n",
    "\n",
    "rfc=RandomForestClassifier()\n",
    "\n",
    "param_grid = {\n",
    "    'randomforestclassifier__n_estimators': [10,20,30],\n",
    "    'randomforestclassifier__max_depth': [None, 5, 10,15],\n",
    "    'randomforestclassifier__min_samples_split': [2, 5, 10, 20],\n",
    "    'randomforestclassifier__min_samples_leaf': [1, 2, 5]\n",
    "}\n",
    "\n",
    "rfc, scores = test(rfc, param_grid)\n",
    "\n",
    "results = pd.DataFrame(scores)\n",
    "\n",
    "models.append(rfc)\n",
    "model_names.append(\"Random Forest Classifier\")\n",
    "accuracy.append(accuracy_score(y_val,rfc.predict(X_val)))"
   ],
   "metadata": {
    "collapsed": false
   }
  },
  {
   "cell_type": "code",
   "execution_count": 40,
   "outputs": [
    {
     "name": "stdout",
     "output_type": "stream",
     "text": [
      "{'mean_fit_time': array([0.31055384, 0.55869846, 0.82867742, 0.28791471, 0.55444436,\n",
      "       0.82345519, 0.28058634, 0.54593801, 0.81164565, 0.27609334,\n",
      "       0.53693256, 0.78816457, 0.28018956, 0.54399018, 0.81723032,\n",
      "       0.28162007, 0.54153214, 0.80656462, 0.27857838, 0.53694358,\n",
      "       0.79554515, 0.26804705, 0.52450061, 0.77619939, 0.26558919,\n",
      "       0.51302023, 0.76413827, 0.26624899, 0.51470938, 0.76068602,\n",
      "       0.28615928, 0.52228336, 0.76418028, 0.2617979 , 0.50322075,\n",
      "       0.75570798, 0.1700726 , 0.29563928, 0.439364  , 0.1399816 ,\n",
      "       0.26769919, 0.41004243, 0.14110346, 0.27044206, 0.38830366,\n",
      "       0.14885969, 0.26579494, 0.39133558, 0.14174714, 0.26925216,\n",
      "       0.38990774, 0.1449553 , 0.26505413, 0.38335018, 0.14066229,\n",
      "       0.26310878, 0.38391442, 0.14171   , 0.26123853, 0.38372335,\n",
      "       0.13987284, 0.26278691, 0.38328176, 0.14197316, 0.26192794,\n",
      "       0.38218803, 0.14013777, 0.26203914, 0.38003836, 0.1401052 ,\n",
      "       0.26035299, 0.38212905, 0.22758107, 0.44052901, 0.65390658,\n",
      "       0.23578277, 0.44381671, 0.65898466, 0.22893391, 0.44188414,\n",
      "       0.64706345, 0.23058147, 0.44803944, 0.64628124, 0.22774377,\n",
      "       0.43638659, 0.64492941, 0.22752738, 0.43909125, 0.64381523,\n",
      "       0.22670226, 0.43467927, 0.64373317, 0.22679515, 0.44443994,\n",
      "       0.64158821, 0.22740669, 0.43332877, 0.64039283, 0.22514205,\n",
      "       0.43590517, 0.65073662, 0.22628312, 0.43359842, 0.63675418,\n",
      "       0.22378292, 0.42965431, 0.63609166, 0.27713852, 0.53308897,\n",
      "       0.81144705, 0.27365956, 0.5359736 , 0.79965162, 0.27720361,\n",
      "       0.52728119, 0.7901978 , 0.26724577, 0.52373805, 0.76569872,\n",
      "       0.26883554, 0.52316318, 0.77638946, 0.27068992, 0.52193785,\n",
      "       0.77576804, 0.26884069, 0.51921844, 0.7668817 , 0.26391554,\n",
      "       0.5086844 , 0.7535388 , 0.26044297, 0.50513172, 0.74626083,\n",
      "       0.26521077, 0.51317787, 0.78954916, 0.26280794, 0.50422082,\n",
      "       0.74957142, 0.25778818, 0.49552774, 0.73754354]), 'std_fit_time': array([0.02532602, 0.00521629, 0.00209541, 0.00085215, 0.00524637,\n",
      "       0.00451994, 0.0013807 , 0.00311948, 0.00560297, 0.00147206,\n",
      "       0.00551936, 0.0047626 , 0.00295434, 0.00296826, 0.0224043 ,\n",
      "       0.00213492, 0.00291777, 0.00485216, 0.00283902, 0.00220791,\n",
      "       0.00396084, 0.00275111, 0.00414666, 0.00505652, 0.00224354,\n",
      "       0.00119838, 0.00465241, 0.0018685 , 0.00550112, 0.00393614,\n",
      "       0.0248064 , 0.00273685, 0.00211436, 0.00185011, 0.00315485,\n",
      "       0.00732062, 0.02542619, 0.03151238, 0.11226283, 0.00099938,\n",
      "       0.00438442, 0.03084106, 0.00139814, 0.00829862, 0.00431247,\n",
      "       0.00507997, 0.00460305, 0.00596719, 0.00144514, 0.00475629,\n",
      "       0.00652557, 0.00290936, 0.00344131, 0.00166048, 0.00134551,\n",
      "       0.00179029, 0.00122978, 0.00159807, 0.00156267, 0.00110338,\n",
      "       0.00144469, 0.00158703, 0.00213097, 0.00078856, 0.00165174,\n",
      "       0.00226202, 0.00165495, 0.00087669, 0.00058618, 0.00140595,\n",
      "       0.00128814, 0.00118992, 0.00153089, 0.00462344, 0.00275331,\n",
      "       0.00297747, 0.00319268, 0.0035874 , 0.00297309, 0.0033696 ,\n",
      "       0.00379186, 0.00365461, 0.0124229 , 0.00688172, 0.00108229,\n",
      "       0.00300505, 0.00278987, 0.00074312, 0.00138319, 0.00078923,\n",
      "       0.0006522 , 0.00101368, 0.00278299, 0.00158011, 0.008061  ,\n",
      "       0.00475956, 0.00158517, 0.00069337, 0.00385146, 0.00233734,\n",
      "       0.00226507, 0.00861258, 0.00227759, 0.00184882, 0.00107029,\n",
      "       0.00065139, 0.00290428, 0.00273875, 0.00111344, 0.00162993,\n",
      "       0.01843898, 0.00229096, 0.00502629, 0.01342518, 0.00404685,\n",
      "       0.00340392, 0.00281029, 0.0021955 , 0.00675505, 0.00457346,\n",
      "       0.00107163, 0.00275556, 0.00261923, 0.0020924 , 0.00098113,\n",
      "       0.00391517, 0.00199149, 0.00242284, 0.00388307, 0.00149727,\n",
      "       0.00289287, 0.0050012 , 0.00126703, 0.00340975, 0.00319745,\n",
      "       0.00395197, 0.00766013, 0.06153539, 0.0021521 , 0.00314673,\n",
      "       0.00341893, 0.00085194, 0.00175617, 0.00310285]), 'mean_score_time': array([0.00718718, 0.01123285, 0.01606879, 0.00611844, 0.01094022,\n",
      "       0.01551042, 0.00597057, 0.01046815, 0.01510143, 0.00600271,\n",
      "       0.01003866, 0.01435361, 0.00602493, 0.01089935, 0.01568408,\n",
      "       0.00598269, 0.01081638, 0.01546698, 0.00584064, 0.01028843,\n",
      "       0.01510668, 0.00556998, 0.0098701 , 0.01426725, 0.005723  ,\n",
      "       0.01009221, 0.0145946 , 0.00566888, 0.01014729, 0.01446471,\n",
      "       0.00593357, 0.0103004 , 0.01465368, 0.00558562, 0.00970407,\n",
      "       0.01402225, 0.00500197, 0.00712709, 0.00796905, 0.00356898,\n",
      "       0.0062058 , 0.00827723, 0.00357404, 0.0062273 , 0.00820012,\n",
      "       0.0039207 , 0.00585747, 0.0081502 , 0.00358543, 0.00586205,\n",
      "       0.00809751, 0.003689  , 0.00606341, 0.00804133, 0.00358491,\n",
      "       0.00575676, 0.00795875, 0.00356622, 0.00571885, 0.00795383,\n",
      "       0.00351987, 0.00572081, 0.00790982, 0.00357766, 0.00580082,\n",
      "       0.00801883, 0.00355296, 0.00567694, 0.0079309 , 0.00345345,\n",
      "       0.00565758, 0.00797181, 0.00476837, 0.008497  , 0.01202679,\n",
      "       0.00621042, 0.00853863, 0.01213179, 0.00498295, 0.00844488,\n",
      "       0.01185026, 0.00498576, 0.00847483, 0.01166224, 0.00483456,\n",
      "       0.00841703, 0.01187501, 0.00490537, 0.00833235, 0.01186137,\n",
      "       0.00477877, 0.00837574, 0.01186786, 0.00477252, 0.00853443,\n",
      "       0.01181831, 0.00483942, 0.00849209, 0.01207347, 0.0048161 ,\n",
      "       0.00838437, 0.01243525, 0.00492439, 0.00842013, 0.0119256 ,\n",
      "       0.00473723, 0.00839534, 0.01172395, 0.00588732, 0.01043634,\n",
      "       0.01559334, 0.00574226, 0.01041541, 0.01491265, 0.00592136,\n",
      "       0.01007385, 0.01495523, 0.00553164, 0.00969019, 0.01403346,\n",
      "       0.0057498 , 0.01032424, 0.01486025, 0.0056911 , 0.01026411,\n",
      "       0.01476951, 0.00552583, 0.00992026, 0.01428504, 0.00543165,\n",
      "       0.00975018, 0.01381102, 0.00548005, 0.01003594, 0.01423836,\n",
      "       0.00572448, 0.01035628, 0.01452308, 0.00563745, 0.00984516,\n",
      "       0.01416068, 0.00535645, 0.0094615 , 0.01365261]), 'std_score_time': array([6.65944353e-04, 2.42618898e-04, 1.86939299e-04, 2.26965351e-04,\n",
      "       1.66251352e-04, 4.67146147e-05, 2.19508017e-04, 9.44802744e-05,\n",
      "       6.99582029e-05, 5.58821971e-04, 1.06014681e-04, 1.57046200e-04,\n",
      "       5.54446186e-05, 3.75176415e-04, 3.14735513e-04, 8.37350217e-05,\n",
      "       2.31954170e-04, 9.75464086e-05, 1.49997964e-04, 1.12809171e-04,\n",
      "       3.40071556e-04, 5.93954995e-05, 6.14673245e-05, 1.87708472e-04,\n",
      "       1.13243153e-04, 7.04794355e-05, 9.59121407e-05, 5.33731821e-05,\n",
      "       1.03863014e-04, 4.45000725e-05, 3.18090145e-04, 3.12148727e-04,\n",
      "       2.50537204e-04, 7.52084823e-05, 5.86043149e-05, 2.20298643e-04,\n",
      "       2.04087679e-03, 1.94056873e-03, 5.26041514e-05, 9.26777639e-05,\n",
      "       4.72820291e-04, 3.25875252e-04, 9.65171415e-05, 8.95147823e-04,\n",
      "       3.31080555e-04, 2.03599896e-04, 6.56246435e-05, 1.40209310e-04,\n",
      "       6.48529389e-05, 8.63366842e-05, 1.63293343e-04, 1.39093031e-04,\n",
      "       4.93970441e-04, 9.78975138e-05, 8.23988407e-05, 3.70120867e-05,\n",
      "       1.23149564e-04, 1.10142509e-04, 5.74149561e-05, 8.20254720e-05,\n",
      "       8.30123507e-05, 6.19700110e-05, 1.09610789e-04, 1.44983700e-04,\n",
      "       1.63539338e-04, 2.19345020e-04, 1.11417918e-04, 2.35537285e-05,\n",
      "       1.07018832e-04, 2.16099317e-05, 3.35706906e-05, 4.92354628e-05,\n",
      "       6.59691757e-05, 1.62702680e-04, 1.37331751e-04, 1.71937270e-03,\n",
      "       2.59700488e-04, 4.13014827e-04, 3.50067557e-04, 1.91346772e-04,\n",
      "       3.14028770e-04, 3.40776518e-04, 7.64877124e-05, 2.52223870e-05,\n",
      "       5.62683202e-05, 1.36969231e-04, 7.26225653e-05, 1.50072222e-04,\n",
      "       8.82054143e-05, 1.21288984e-04, 6.01583700e-05, 1.12471685e-04,\n",
      "       2.12580273e-04, 4.56755740e-05, 2.11802832e-04, 1.31902898e-04,\n",
      "       4.82654845e-05, 1.46624255e-04, 2.82385461e-04, 3.01511944e-05,\n",
      "       8.46719139e-05, 7.39504601e-04, 1.05683897e-04, 7.98017436e-05,\n",
      "       1.50024565e-04, 1.71519592e-05, 1.81742816e-04, 1.39617838e-04,\n",
      "       5.27892116e-05, 1.17956676e-04, 7.64489944e-04, 1.03629715e-04,\n",
      "       2.61456062e-04, 1.70547154e-04, 1.95445366e-04, 1.08354086e-04,\n",
      "       9.07103563e-04, 7.42180762e-05, 7.53033825e-05, 1.71919377e-04,\n",
      "       1.01797597e-04, 1.18211384e-04, 1.09833268e-04, 1.12018315e-04,\n",
      "       1.21968887e-04, 1.80414312e-04, 3.57802666e-05, 6.18240293e-05,\n",
      "       1.10816217e-04, 4.36684960e-05, 2.19128253e-04, 7.93691976e-05,\n",
      "       3.07628343e-05, 2.24368245e-04, 1.18712056e-04, 1.13432174e-04,\n",
      "       3.95991789e-04, 3.97060770e-04, 1.61604003e-04, 6.55335611e-05,\n",
      "       7.77717458e-05, 3.22719077e-05, 4.84144956e-05, 8.28456225e-05]), 'param_randomforestclassifier__max_depth': masked_array(data=[None, None, None, None, None, None, None, None, None,\n",
      "                   None, None, None, None, None, None, None, None, None,\n",
      "                   None, None, None, None, None, None, None, None, None,\n",
      "                   None, None, None, None, None, None, None, None, None,\n",
      "                   5, 5, 5, 5, 5, 5, 5, 5, 5, 5, 5, 5, 5, 5, 5, 5, 5, 5,\n",
      "                   5, 5, 5, 5, 5, 5, 5, 5, 5, 5, 5, 5, 5, 5, 5, 5, 5, 5,\n",
      "                   10, 10, 10, 10, 10, 10, 10, 10, 10, 10, 10, 10, 10, 10,\n",
      "                   10, 10, 10, 10, 10, 10, 10, 10, 10, 10, 10, 10, 10, 10,\n",
      "                   10, 10, 10, 10, 10, 10, 10, 10, 15, 15, 15, 15, 15, 15,\n",
      "                   15, 15, 15, 15, 15, 15, 15, 15, 15, 15, 15, 15, 15, 15,\n",
      "                   15, 15, 15, 15, 15, 15, 15, 15, 15, 15, 15, 15, 15, 15,\n",
      "                   15, 15],\n",
      "             mask=[False, False, False, False, False, False, False, False,\n",
      "                   False, False, False, False, False, False, False, False,\n",
      "                   False, False, False, False, False, False, False, False,\n",
      "                   False, False, False, False, False, False, False, False,\n",
      "                   False, False, False, False, False, False, False, False,\n",
      "                   False, False, False, False, False, False, False, False,\n",
      "                   False, False, False, False, False, False, False, False,\n",
      "                   False, False, False, False, False, False, False, False,\n",
      "                   False, False, False, False, False, False, False, False,\n",
      "                   False, False, False, False, False, False, False, False,\n",
      "                   False, False, False, False, False, False, False, False,\n",
      "                   False, False, False, False, False, False, False, False,\n",
      "                   False, False, False, False, False, False, False, False,\n",
      "                   False, False, False, False, False, False, False, False,\n",
      "                   False, False, False, False, False, False, False, False,\n",
      "                   False, False, False, False, False, False, False, False,\n",
      "                   False, False, False, False, False, False, False, False,\n",
      "                   False, False, False, False, False, False, False, False],\n",
      "       fill_value='?',\n",
      "            dtype=object), 'param_randomforestclassifier__min_samples_leaf': masked_array(data=[1, 1, 1, 1, 1, 1, 1, 1, 1, 1, 1, 1, 2, 2, 2, 2, 2, 2,\n",
      "                   2, 2, 2, 2, 2, 2, 5, 5, 5, 5, 5, 5, 5, 5, 5, 5, 5, 5,\n",
      "                   1, 1, 1, 1, 1, 1, 1, 1, 1, 1, 1, 1, 2, 2, 2, 2, 2, 2,\n",
      "                   2, 2, 2, 2, 2, 2, 5, 5, 5, 5, 5, 5, 5, 5, 5, 5, 5, 5,\n",
      "                   1, 1, 1, 1, 1, 1, 1, 1, 1, 1, 1, 1, 2, 2, 2, 2, 2, 2,\n",
      "                   2, 2, 2, 2, 2, 2, 5, 5, 5, 5, 5, 5, 5, 5, 5, 5, 5, 5,\n",
      "                   1, 1, 1, 1, 1, 1, 1, 1, 1, 1, 1, 1, 2, 2, 2, 2, 2, 2,\n",
      "                   2, 2, 2, 2, 2, 2, 5, 5, 5, 5, 5, 5, 5, 5, 5, 5, 5, 5],\n",
      "             mask=[False, False, False, False, False, False, False, False,\n",
      "                   False, False, False, False, False, False, False, False,\n",
      "                   False, False, False, False, False, False, False, False,\n",
      "                   False, False, False, False, False, False, False, False,\n",
      "                   False, False, False, False, False, False, False, False,\n",
      "                   False, False, False, False, False, False, False, False,\n",
      "                   False, False, False, False, False, False, False, False,\n",
      "                   False, False, False, False, False, False, False, False,\n",
      "                   False, False, False, False, False, False, False, False,\n",
      "                   False, False, False, False, False, False, False, False,\n",
      "                   False, False, False, False, False, False, False, False,\n",
      "                   False, False, False, False, False, False, False, False,\n",
      "                   False, False, False, False, False, False, False, False,\n",
      "                   False, False, False, False, False, False, False, False,\n",
      "                   False, False, False, False, False, False, False, False,\n",
      "                   False, False, False, False, False, False, False, False,\n",
      "                   False, False, False, False, False, False, False, False,\n",
      "                   False, False, False, False, False, False, False, False],\n",
      "       fill_value='?',\n",
      "            dtype=object), 'param_randomforestclassifier__min_samples_split': masked_array(data=[2, 2, 2, 5, 5, 5, 10, 10, 10, 20, 20, 20, 2, 2, 2, 5,\n",
      "                   5, 5, 10, 10, 10, 20, 20, 20, 2, 2, 2, 5, 5, 5, 10, 10,\n",
      "                   10, 20, 20, 20, 2, 2, 2, 5, 5, 5, 10, 10, 10, 20, 20,\n",
      "                   20, 2, 2, 2, 5, 5, 5, 10, 10, 10, 20, 20, 20, 2, 2, 2,\n",
      "                   5, 5, 5, 10, 10, 10, 20, 20, 20, 2, 2, 2, 5, 5, 5, 10,\n",
      "                   10, 10, 20, 20, 20, 2, 2, 2, 5, 5, 5, 10, 10, 10, 20,\n",
      "                   20, 20, 2, 2, 2, 5, 5, 5, 10, 10, 10, 20, 20, 20, 2, 2,\n",
      "                   2, 5, 5, 5, 10, 10, 10, 20, 20, 20, 2, 2, 2, 5, 5, 5,\n",
      "                   10, 10, 10, 20, 20, 20, 2, 2, 2, 5, 5, 5, 10, 10, 10,\n",
      "                   20, 20, 20],\n",
      "             mask=[False, False, False, False, False, False, False, False,\n",
      "                   False, False, False, False, False, False, False, False,\n",
      "                   False, False, False, False, False, False, False, False,\n",
      "                   False, False, False, False, False, False, False, False,\n",
      "                   False, False, False, False, False, False, False, False,\n",
      "                   False, False, False, False, False, False, False, False,\n",
      "                   False, False, False, False, False, False, False, False,\n",
      "                   False, False, False, False, False, False, False, False,\n",
      "                   False, False, False, False, False, False, False, False,\n",
      "                   False, False, False, False, False, False, False, False,\n",
      "                   False, False, False, False, False, False, False, False,\n",
      "                   False, False, False, False, False, False, False, False,\n",
      "                   False, False, False, False, False, False, False, False,\n",
      "                   False, False, False, False, False, False, False, False,\n",
      "                   False, False, False, False, False, False, False, False,\n",
      "                   False, False, False, False, False, False, False, False,\n",
      "                   False, False, False, False, False, False, False, False,\n",
      "                   False, False, False, False, False, False, False, False],\n",
      "       fill_value='?',\n",
      "            dtype=object), 'param_randomforestclassifier__n_estimators': masked_array(data=[10, 20, 30, 10, 20, 30, 10, 20, 30, 10, 20, 30, 10, 20,\n",
      "                   30, 10, 20, 30, 10, 20, 30, 10, 20, 30, 10, 20, 30, 10,\n",
      "                   20, 30, 10, 20, 30, 10, 20, 30, 10, 20, 30, 10, 20, 30,\n",
      "                   10, 20, 30, 10, 20, 30, 10, 20, 30, 10, 20, 30, 10, 20,\n",
      "                   30, 10, 20, 30, 10, 20, 30, 10, 20, 30, 10, 20, 30, 10,\n",
      "                   20, 30, 10, 20, 30, 10, 20, 30, 10, 20, 30, 10, 20, 30,\n",
      "                   10, 20, 30, 10, 20, 30, 10, 20, 30, 10, 20, 30, 10, 20,\n",
      "                   30, 10, 20, 30, 10, 20, 30, 10, 20, 30, 10, 20, 30, 10,\n",
      "                   20, 30, 10, 20, 30, 10, 20, 30, 10, 20, 30, 10, 20, 30,\n",
      "                   10, 20, 30, 10, 20, 30, 10, 20, 30, 10, 20, 30, 10, 20,\n",
      "                   30, 10, 20, 30],\n",
      "             mask=[False, False, False, False, False, False, False, False,\n",
      "                   False, False, False, False, False, False, False, False,\n",
      "                   False, False, False, False, False, False, False, False,\n",
      "                   False, False, False, False, False, False, False, False,\n",
      "                   False, False, False, False, False, False, False, False,\n",
      "                   False, False, False, False, False, False, False, False,\n",
      "                   False, False, False, False, False, False, False, False,\n",
      "                   False, False, False, False, False, False, False, False,\n",
      "                   False, False, False, False, False, False, False, False,\n",
      "                   False, False, False, False, False, False, False, False,\n",
      "                   False, False, False, False, False, False, False, False,\n",
      "                   False, False, False, False, False, False, False, False,\n",
      "                   False, False, False, False, False, False, False, False,\n",
      "                   False, False, False, False, False, False, False, False,\n",
      "                   False, False, False, False, False, False, False, False,\n",
      "                   False, False, False, False, False, False, False, False,\n",
      "                   False, False, False, False, False, False, False, False,\n",
      "                   False, False, False, False, False, False, False, False],\n",
      "       fill_value='?',\n",
      "            dtype=object), 'params': [{'randomforestclassifier__max_depth': None, 'randomforestclassifier__min_samples_leaf': 1, 'randomforestclassifier__min_samples_split': 2, 'randomforestclassifier__n_estimators': 10}, {'randomforestclassifier__max_depth': None, 'randomforestclassifier__min_samples_leaf': 1, 'randomforestclassifier__min_samples_split': 2, 'randomforestclassifier__n_estimators': 20}, {'randomforestclassifier__max_depth': None, 'randomforestclassifier__min_samples_leaf': 1, 'randomforestclassifier__min_samples_split': 2, 'randomforestclassifier__n_estimators': 30}, {'randomforestclassifier__max_depth': None, 'randomforestclassifier__min_samples_leaf': 1, 'randomforestclassifier__min_samples_split': 5, 'randomforestclassifier__n_estimators': 10}, {'randomforestclassifier__max_depth': None, 'randomforestclassifier__min_samples_leaf': 1, 'randomforestclassifier__min_samples_split': 5, 'randomforestclassifier__n_estimators': 20}, {'randomforestclassifier__max_depth': None, 'randomforestclassifier__min_samples_leaf': 1, 'randomforestclassifier__min_samples_split': 5, 'randomforestclassifier__n_estimators': 30}, {'randomforestclassifier__max_depth': None, 'randomforestclassifier__min_samples_leaf': 1, 'randomforestclassifier__min_samples_split': 10, 'randomforestclassifier__n_estimators': 10}, {'randomforestclassifier__max_depth': None, 'randomforestclassifier__min_samples_leaf': 1, 'randomforestclassifier__min_samples_split': 10, 'randomforestclassifier__n_estimators': 20}, {'randomforestclassifier__max_depth': None, 'randomforestclassifier__min_samples_leaf': 1, 'randomforestclassifier__min_samples_split': 10, 'randomforestclassifier__n_estimators': 30}, {'randomforestclassifier__max_depth': None, 'randomforestclassifier__min_samples_leaf': 1, 'randomforestclassifier__min_samples_split': 20, 'randomforestclassifier__n_estimators': 10}, {'randomforestclassifier__max_depth': None, 'randomforestclassifier__min_samples_leaf': 1, 'randomforestclassifier__min_samples_split': 20, 'randomforestclassifier__n_estimators': 20}, {'randomforestclassifier__max_depth': None, 'randomforestclassifier__min_samples_leaf': 1, 'randomforestclassifier__min_samples_split': 20, 'randomforestclassifier__n_estimators': 30}, {'randomforestclassifier__max_depth': None, 'randomforestclassifier__min_samples_leaf': 2, 'randomforestclassifier__min_samples_split': 2, 'randomforestclassifier__n_estimators': 10}, {'randomforestclassifier__max_depth': None, 'randomforestclassifier__min_samples_leaf': 2, 'randomforestclassifier__min_samples_split': 2, 'randomforestclassifier__n_estimators': 20}, {'randomforestclassifier__max_depth': None, 'randomforestclassifier__min_samples_leaf': 2, 'randomforestclassifier__min_samples_split': 2, 'randomforestclassifier__n_estimators': 30}, {'randomforestclassifier__max_depth': None, 'randomforestclassifier__min_samples_leaf': 2, 'randomforestclassifier__min_samples_split': 5, 'randomforestclassifier__n_estimators': 10}, {'randomforestclassifier__max_depth': None, 'randomforestclassifier__min_samples_leaf': 2, 'randomforestclassifier__min_samples_split': 5, 'randomforestclassifier__n_estimators': 20}, {'randomforestclassifier__max_depth': None, 'randomforestclassifier__min_samples_leaf': 2, 'randomforestclassifier__min_samples_split': 5, 'randomforestclassifier__n_estimators': 30}, {'randomforestclassifier__max_depth': None, 'randomforestclassifier__min_samples_leaf': 2, 'randomforestclassifier__min_samples_split': 10, 'randomforestclassifier__n_estimators': 10}, {'randomforestclassifier__max_depth': None, 'randomforestclassifier__min_samples_leaf': 2, 'randomforestclassifier__min_samples_split': 10, 'randomforestclassifier__n_estimators': 20}, {'randomforestclassifier__max_depth': None, 'randomforestclassifier__min_samples_leaf': 2, 'randomforestclassifier__min_samples_split': 10, 'randomforestclassifier__n_estimators': 30}, {'randomforestclassifier__max_depth': None, 'randomforestclassifier__min_samples_leaf': 2, 'randomforestclassifier__min_samples_split': 20, 'randomforestclassifier__n_estimators': 10}, {'randomforestclassifier__max_depth': None, 'randomforestclassifier__min_samples_leaf': 2, 'randomforestclassifier__min_samples_split': 20, 'randomforestclassifier__n_estimators': 20}, {'randomforestclassifier__max_depth': None, 'randomforestclassifier__min_samples_leaf': 2, 'randomforestclassifier__min_samples_split': 20, 'randomforestclassifier__n_estimators': 30}, {'randomforestclassifier__max_depth': None, 'randomforestclassifier__min_samples_leaf': 5, 'randomforestclassifier__min_samples_split': 2, 'randomforestclassifier__n_estimators': 10}, {'randomforestclassifier__max_depth': None, 'randomforestclassifier__min_samples_leaf': 5, 'randomforestclassifier__min_samples_split': 2, 'randomforestclassifier__n_estimators': 20}, {'randomforestclassifier__max_depth': None, 'randomforestclassifier__min_samples_leaf': 5, 'randomforestclassifier__min_samples_split': 2, 'randomforestclassifier__n_estimators': 30}, {'randomforestclassifier__max_depth': None, 'randomforestclassifier__min_samples_leaf': 5, 'randomforestclassifier__min_samples_split': 5, 'randomforestclassifier__n_estimators': 10}, {'randomforestclassifier__max_depth': None, 'randomforestclassifier__min_samples_leaf': 5, 'randomforestclassifier__min_samples_split': 5, 'randomforestclassifier__n_estimators': 20}, {'randomforestclassifier__max_depth': None, 'randomforestclassifier__min_samples_leaf': 5, 'randomforestclassifier__min_samples_split': 5, 'randomforestclassifier__n_estimators': 30}, {'randomforestclassifier__max_depth': None, 'randomforestclassifier__min_samples_leaf': 5, 'randomforestclassifier__min_samples_split': 10, 'randomforestclassifier__n_estimators': 10}, {'randomforestclassifier__max_depth': None, 'randomforestclassifier__min_samples_leaf': 5, 'randomforestclassifier__min_samples_split': 10, 'randomforestclassifier__n_estimators': 20}, {'randomforestclassifier__max_depth': None, 'randomforestclassifier__min_samples_leaf': 5, 'randomforestclassifier__min_samples_split': 10, 'randomforestclassifier__n_estimators': 30}, {'randomforestclassifier__max_depth': None, 'randomforestclassifier__min_samples_leaf': 5, 'randomforestclassifier__min_samples_split': 20, 'randomforestclassifier__n_estimators': 10}, {'randomforestclassifier__max_depth': None, 'randomforestclassifier__min_samples_leaf': 5, 'randomforestclassifier__min_samples_split': 20, 'randomforestclassifier__n_estimators': 20}, {'randomforestclassifier__max_depth': None, 'randomforestclassifier__min_samples_leaf': 5, 'randomforestclassifier__min_samples_split': 20, 'randomforestclassifier__n_estimators': 30}, {'randomforestclassifier__max_depth': 5, 'randomforestclassifier__min_samples_leaf': 1, 'randomforestclassifier__min_samples_split': 2, 'randomforestclassifier__n_estimators': 10}, {'randomforestclassifier__max_depth': 5, 'randomforestclassifier__min_samples_leaf': 1, 'randomforestclassifier__min_samples_split': 2, 'randomforestclassifier__n_estimators': 20}, {'randomforestclassifier__max_depth': 5, 'randomforestclassifier__min_samples_leaf': 1, 'randomforestclassifier__min_samples_split': 2, 'randomforestclassifier__n_estimators': 30}, {'randomforestclassifier__max_depth': 5, 'randomforestclassifier__min_samples_leaf': 1, 'randomforestclassifier__min_samples_split': 5, 'randomforestclassifier__n_estimators': 10}, {'randomforestclassifier__max_depth': 5, 'randomforestclassifier__min_samples_leaf': 1, 'randomforestclassifier__min_samples_split': 5, 'randomforestclassifier__n_estimators': 20}, {'randomforestclassifier__max_depth': 5, 'randomforestclassifier__min_samples_leaf': 1, 'randomforestclassifier__min_samples_split': 5, 'randomforestclassifier__n_estimators': 30}, {'randomforestclassifier__max_depth': 5, 'randomforestclassifier__min_samples_leaf': 1, 'randomforestclassifier__min_samples_split': 10, 'randomforestclassifier__n_estimators': 10}, {'randomforestclassifier__max_depth': 5, 'randomforestclassifier__min_samples_leaf': 1, 'randomforestclassifier__min_samples_split': 10, 'randomforestclassifier__n_estimators': 20}, {'randomforestclassifier__max_depth': 5, 'randomforestclassifier__min_samples_leaf': 1, 'randomforestclassifier__min_samples_split': 10, 'randomforestclassifier__n_estimators': 30}, {'randomforestclassifier__max_depth': 5, 'randomforestclassifier__min_samples_leaf': 1, 'randomforestclassifier__min_samples_split': 20, 'randomforestclassifier__n_estimators': 10}, {'randomforestclassifier__max_depth': 5, 'randomforestclassifier__min_samples_leaf': 1, 'randomforestclassifier__min_samples_split': 20, 'randomforestclassifier__n_estimators': 20}, {'randomforestclassifier__max_depth': 5, 'randomforestclassifier__min_samples_leaf': 1, 'randomforestclassifier__min_samples_split': 20, 'randomforestclassifier__n_estimators': 30}, {'randomforestclassifier__max_depth': 5, 'randomforestclassifier__min_samples_leaf': 2, 'randomforestclassifier__min_samples_split': 2, 'randomforestclassifier__n_estimators': 10}, {'randomforestclassifier__max_depth': 5, 'randomforestclassifier__min_samples_leaf': 2, 'randomforestclassifier__min_samples_split': 2, 'randomforestclassifier__n_estimators': 20}, {'randomforestclassifier__max_depth': 5, 'randomforestclassifier__min_samples_leaf': 2, 'randomforestclassifier__min_samples_split': 2, 'randomforestclassifier__n_estimators': 30}, {'randomforestclassifier__max_depth': 5, 'randomforestclassifier__min_samples_leaf': 2, 'randomforestclassifier__min_samples_split': 5, 'randomforestclassifier__n_estimators': 10}, {'randomforestclassifier__max_depth': 5, 'randomforestclassifier__min_samples_leaf': 2, 'randomforestclassifier__min_samples_split': 5, 'randomforestclassifier__n_estimators': 20}, {'randomforestclassifier__max_depth': 5, 'randomforestclassifier__min_samples_leaf': 2, 'randomforestclassifier__min_samples_split': 5, 'randomforestclassifier__n_estimators': 30}, {'randomforestclassifier__max_depth': 5, 'randomforestclassifier__min_samples_leaf': 2, 'randomforestclassifier__min_samples_split': 10, 'randomforestclassifier__n_estimators': 10}, {'randomforestclassifier__max_depth': 5, 'randomforestclassifier__min_samples_leaf': 2, 'randomforestclassifier__min_samples_split': 10, 'randomforestclassifier__n_estimators': 20}, {'randomforestclassifier__max_depth': 5, 'randomforestclassifier__min_samples_leaf': 2, 'randomforestclassifier__min_samples_split': 10, 'randomforestclassifier__n_estimators': 30}, {'randomforestclassifier__max_depth': 5, 'randomforestclassifier__min_samples_leaf': 2, 'randomforestclassifier__min_samples_split': 20, 'randomforestclassifier__n_estimators': 10}, {'randomforestclassifier__max_depth': 5, 'randomforestclassifier__min_samples_leaf': 2, 'randomforestclassifier__min_samples_split': 20, 'randomforestclassifier__n_estimators': 20}, {'randomforestclassifier__max_depth': 5, 'randomforestclassifier__min_samples_leaf': 2, 'randomforestclassifier__min_samples_split': 20, 'randomforestclassifier__n_estimators': 30}, {'randomforestclassifier__max_depth': 5, 'randomforestclassifier__min_samples_leaf': 5, 'randomforestclassifier__min_samples_split': 2, 'randomforestclassifier__n_estimators': 10}, {'randomforestclassifier__max_depth': 5, 'randomforestclassifier__min_samples_leaf': 5, 'randomforestclassifier__min_samples_split': 2, 'randomforestclassifier__n_estimators': 20}, {'randomforestclassifier__max_depth': 5, 'randomforestclassifier__min_samples_leaf': 5, 'randomforestclassifier__min_samples_split': 2, 'randomforestclassifier__n_estimators': 30}, {'randomforestclassifier__max_depth': 5, 'randomforestclassifier__min_samples_leaf': 5, 'randomforestclassifier__min_samples_split': 5, 'randomforestclassifier__n_estimators': 10}, {'randomforestclassifier__max_depth': 5, 'randomforestclassifier__min_samples_leaf': 5, 'randomforestclassifier__min_samples_split': 5, 'randomforestclassifier__n_estimators': 20}, {'randomforestclassifier__max_depth': 5, 'randomforestclassifier__min_samples_leaf': 5, 'randomforestclassifier__min_samples_split': 5, 'randomforestclassifier__n_estimators': 30}, {'randomforestclassifier__max_depth': 5, 'randomforestclassifier__min_samples_leaf': 5, 'randomforestclassifier__min_samples_split': 10, 'randomforestclassifier__n_estimators': 10}, {'randomforestclassifier__max_depth': 5, 'randomforestclassifier__min_samples_leaf': 5, 'randomforestclassifier__min_samples_split': 10, 'randomforestclassifier__n_estimators': 20}, {'randomforestclassifier__max_depth': 5, 'randomforestclassifier__min_samples_leaf': 5, 'randomforestclassifier__min_samples_split': 10, 'randomforestclassifier__n_estimators': 30}, {'randomforestclassifier__max_depth': 5, 'randomforestclassifier__min_samples_leaf': 5, 'randomforestclassifier__min_samples_split': 20, 'randomforestclassifier__n_estimators': 10}, {'randomforestclassifier__max_depth': 5, 'randomforestclassifier__min_samples_leaf': 5, 'randomforestclassifier__min_samples_split': 20, 'randomforestclassifier__n_estimators': 20}, {'randomforestclassifier__max_depth': 5, 'randomforestclassifier__min_samples_leaf': 5, 'randomforestclassifier__min_samples_split': 20, 'randomforestclassifier__n_estimators': 30}, {'randomforestclassifier__max_depth': 10, 'randomforestclassifier__min_samples_leaf': 1, 'randomforestclassifier__min_samples_split': 2, 'randomforestclassifier__n_estimators': 10}, {'randomforestclassifier__max_depth': 10, 'randomforestclassifier__min_samples_leaf': 1, 'randomforestclassifier__min_samples_split': 2, 'randomforestclassifier__n_estimators': 20}, {'randomforestclassifier__max_depth': 10, 'randomforestclassifier__min_samples_leaf': 1, 'randomforestclassifier__min_samples_split': 2, 'randomforestclassifier__n_estimators': 30}, {'randomforestclassifier__max_depth': 10, 'randomforestclassifier__min_samples_leaf': 1, 'randomforestclassifier__min_samples_split': 5, 'randomforestclassifier__n_estimators': 10}, {'randomforestclassifier__max_depth': 10, 'randomforestclassifier__min_samples_leaf': 1, 'randomforestclassifier__min_samples_split': 5, 'randomforestclassifier__n_estimators': 20}, {'randomforestclassifier__max_depth': 10, 'randomforestclassifier__min_samples_leaf': 1, 'randomforestclassifier__min_samples_split': 5, 'randomforestclassifier__n_estimators': 30}, {'randomforestclassifier__max_depth': 10, 'randomforestclassifier__min_samples_leaf': 1, 'randomforestclassifier__min_samples_split': 10, 'randomforestclassifier__n_estimators': 10}, {'randomforestclassifier__max_depth': 10, 'randomforestclassifier__min_samples_leaf': 1, 'randomforestclassifier__min_samples_split': 10, 'randomforestclassifier__n_estimators': 20}, {'randomforestclassifier__max_depth': 10, 'randomforestclassifier__min_samples_leaf': 1, 'randomforestclassifier__min_samples_split': 10, 'randomforestclassifier__n_estimators': 30}, {'randomforestclassifier__max_depth': 10, 'randomforestclassifier__min_samples_leaf': 1, 'randomforestclassifier__min_samples_split': 20, 'randomforestclassifier__n_estimators': 10}, {'randomforestclassifier__max_depth': 10, 'randomforestclassifier__min_samples_leaf': 1, 'randomforestclassifier__min_samples_split': 20, 'randomforestclassifier__n_estimators': 20}, {'randomforestclassifier__max_depth': 10, 'randomforestclassifier__min_samples_leaf': 1, 'randomforestclassifier__min_samples_split': 20, 'randomforestclassifier__n_estimators': 30}, {'randomforestclassifier__max_depth': 10, 'randomforestclassifier__min_samples_leaf': 2, 'randomforestclassifier__min_samples_split': 2, 'randomforestclassifier__n_estimators': 10}, {'randomforestclassifier__max_depth': 10, 'randomforestclassifier__min_samples_leaf': 2, 'randomforestclassifier__min_samples_split': 2, 'randomforestclassifier__n_estimators': 20}, {'randomforestclassifier__max_depth': 10, 'randomforestclassifier__min_samples_leaf': 2, 'randomforestclassifier__min_samples_split': 2, 'randomforestclassifier__n_estimators': 30}, {'randomforestclassifier__max_depth': 10, 'randomforestclassifier__min_samples_leaf': 2, 'randomforestclassifier__min_samples_split': 5, 'randomforestclassifier__n_estimators': 10}, {'randomforestclassifier__max_depth': 10, 'randomforestclassifier__min_samples_leaf': 2, 'randomforestclassifier__min_samples_split': 5, 'randomforestclassifier__n_estimators': 20}, {'randomforestclassifier__max_depth': 10, 'randomforestclassifier__min_samples_leaf': 2, 'randomforestclassifier__min_samples_split': 5, 'randomforestclassifier__n_estimators': 30}, {'randomforestclassifier__max_depth': 10, 'randomforestclassifier__min_samples_leaf': 2, 'randomforestclassifier__min_samples_split': 10, 'randomforestclassifier__n_estimators': 10}, {'randomforestclassifier__max_depth': 10, 'randomforestclassifier__min_samples_leaf': 2, 'randomforestclassifier__min_samples_split': 10, 'randomforestclassifier__n_estimators': 20}, {'randomforestclassifier__max_depth': 10, 'randomforestclassifier__min_samples_leaf': 2, 'randomforestclassifier__min_samples_split': 10, 'randomforestclassifier__n_estimators': 30}, {'randomforestclassifier__max_depth': 10, 'randomforestclassifier__min_samples_leaf': 2, 'randomforestclassifier__min_samples_split': 20, 'randomforestclassifier__n_estimators': 10}, {'randomforestclassifier__max_depth': 10, 'randomforestclassifier__min_samples_leaf': 2, 'randomforestclassifier__min_samples_split': 20, 'randomforestclassifier__n_estimators': 20}, {'randomforestclassifier__max_depth': 10, 'randomforestclassifier__min_samples_leaf': 2, 'randomforestclassifier__min_samples_split': 20, 'randomforestclassifier__n_estimators': 30}, {'randomforestclassifier__max_depth': 10, 'randomforestclassifier__min_samples_leaf': 5, 'randomforestclassifier__min_samples_split': 2, 'randomforestclassifier__n_estimators': 10}, {'randomforestclassifier__max_depth': 10, 'randomforestclassifier__min_samples_leaf': 5, 'randomforestclassifier__min_samples_split': 2, 'randomforestclassifier__n_estimators': 20}, {'randomforestclassifier__max_depth': 10, 'randomforestclassifier__min_samples_leaf': 5, 'randomforestclassifier__min_samples_split': 2, 'randomforestclassifier__n_estimators': 30}, {'randomforestclassifier__max_depth': 10, 'randomforestclassifier__min_samples_leaf': 5, 'randomforestclassifier__min_samples_split': 5, 'randomforestclassifier__n_estimators': 10}, {'randomforestclassifier__max_depth': 10, 'randomforestclassifier__min_samples_leaf': 5, 'randomforestclassifier__min_samples_split': 5, 'randomforestclassifier__n_estimators': 20}, {'randomforestclassifier__max_depth': 10, 'randomforestclassifier__min_samples_leaf': 5, 'randomforestclassifier__min_samples_split': 5, 'randomforestclassifier__n_estimators': 30}, {'randomforestclassifier__max_depth': 10, 'randomforestclassifier__min_samples_leaf': 5, 'randomforestclassifier__min_samples_split': 10, 'randomforestclassifier__n_estimators': 10}, {'randomforestclassifier__max_depth': 10, 'randomforestclassifier__min_samples_leaf': 5, 'randomforestclassifier__min_samples_split': 10, 'randomforestclassifier__n_estimators': 20}, {'randomforestclassifier__max_depth': 10, 'randomforestclassifier__min_samples_leaf': 5, 'randomforestclassifier__min_samples_split': 10, 'randomforestclassifier__n_estimators': 30}, {'randomforestclassifier__max_depth': 10, 'randomforestclassifier__min_samples_leaf': 5, 'randomforestclassifier__min_samples_split': 20, 'randomforestclassifier__n_estimators': 10}, {'randomforestclassifier__max_depth': 10, 'randomforestclassifier__min_samples_leaf': 5, 'randomforestclassifier__min_samples_split': 20, 'randomforestclassifier__n_estimators': 20}, {'randomforestclassifier__max_depth': 10, 'randomforestclassifier__min_samples_leaf': 5, 'randomforestclassifier__min_samples_split': 20, 'randomforestclassifier__n_estimators': 30}, {'randomforestclassifier__max_depth': 15, 'randomforestclassifier__min_samples_leaf': 1, 'randomforestclassifier__min_samples_split': 2, 'randomforestclassifier__n_estimators': 10}, {'randomforestclassifier__max_depth': 15, 'randomforestclassifier__min_samples_leaf': 1, 'randomforestclassifier__min_samples_split': 2, 'randomforestclassifier__n_estimators': 20}, {'randomforestclassifier__max_depth': 15, 'randomforestclassifier__min_samples_leaf': 1, 'randomforestclassifier__min_samples_split': 2, 'randomforestclassifier__n_estimators': 30}, {'randomforestclassifier__max_depth': 15, 'randomforestclassifier__min_samples_leaf': 1, 'randomforestclassifier__min_samples_split': 5, 'randomforestclassifier__n_estimators': 10}, {'randomforestclassifier__max_depth': 15, 'randomforestclassifier__min_samples_leaf': 1, 'randomforestclassifier__min_samples_split': 5, 'randomforestclassifier__n_estimators': 20}, {'randomforestclassifier__max_depth': 15, 'randomforestclassifier__min_samples_leaf': 1, 'randomforestclassifier__min_samples_split': 5, 'randomforestclassifier__n_estimators': 30}, {'randomforestclassifier__max_depth': 15, 'randomforestclassifier__min_samples_leaf': 1, 'randomforestclassifier__min_samples_split': 10, 'randomforestclassifier__n_estimators': 10}, {'randomforestclassifier__max_depth': 15, 'randomforestclassifier__min_samples_leaf': 1, 'randomforestclassifier__min_samples_split': 10, 'randomforestclassifier__n_estimators': 20}, {'randomforestclassifier__max_depth': 15, 'randomforestclassifier__min_samples_leaf': 1, 'randomforestclassifier__min_samples_split': 10, 'randomforestclassifier__n_estimators': 30}, {'randomforestclassifier__max_depth': 15, 'randomforestclassifier__min_samples_leaf': 1, 'randomforestclassifier__min_samples_split': 20, 'randomforestclassifier__n_estimators': 10}, {'randomforestclassifier__max_depth': 15, 'randomforestclassifier__min_samples_leaf': 1, 'randomforestclassifier__min_samples_split': 20, 'randomforestclassifier__n_estimators': 20}, {'randomforestclassifier__max_depth': 15, 'randomforestclassifier__min_samples_leaf': 1, 'randomforestclassifier__min_samples_split': 20, 'randomforestclassifier__n_estimators': 30}, {'randomforestclassifier__max_depth': 15, 'randomforestclassifier__min_samples_leaf': 2, 'randomforestclassifier__min_samples_split': 2, 'randomforestclassifier__n_estimators': 10}, {'randomforestclassifier__max_depth': 15, 'randomforestclassifier__min_samples_leaf': 2, 'randomforestclassifier__min_samples_split': 2, 'randomforestclassifier__n_estimators': 20}, {'randomforestclassifier__max_depth': 15, 'randomforestclassifier__min_samples_leaf': 2, 'randomforestclassifier__min_samples_split': 2, 'randomforestclassifier__n_estimators': 30}, {'randomforestclassifier__max_depth': 15, 'randomforestclassifier__min_samples_leaf': 2, 'randomforestclassifier__min_samples_split': 5, 'randomforestclassifier__n_estimators': 10}, {'randomforestclassifier__max_depth': 15, 'randomforestclassifier__min_samples_leaf': 2, 'randomforestclassifier__min_samples_split': 5, 'randomforestclassifier__n_estimators': 20}, {'randomforestclassifier__max_depth': 15, 'randomforestclassifier__min_samples_leaf': 2, 'randomforestclassifier__min_samples_split': 5, 'randomforestclassifier__n_estimators': 30}, {'randomforestclassifier__max_depth': 15, 'randomforestclassifier__min_samples_leaf': 2, 'randomforestclassifier__min_samples_split': 10, 'randomforestclassifier__n_estimators': 10}, {'randomforestclassifier__max_depth': 15, 'randomforestclassifier__min_samples_leaf': 2, 'randomforestclassifier__min_samples_split': 10, 'randomforestclassifier__n_estimators': 20}, {'randomforestclassifier__max_depth': 15, 'randomforestclassifier__min_samples_leaf': 2, 'randomforestclassifier__min_samples_split': 10, 'randomforestclassifier__n_estimators': 30}, {'randomforestclassifier__max_depth': 15, 'randomforestclassifier__min_samples_leaf': 2, 'randomforestclassifier__min_samples_split': 20, 'randomforestclassifier__n_estimators': 10}, {'randomforestclassifier__max_depth': 15, 'randomforestclassifier__min_samples_leaf': 2, 'randomforestclassifier__min_samples_split': 20, 'randomforestclassifier__n_estimators': 20}, {'randomforestclassifier__max_depth': 15, 'randomforestclassifier__min_samples_leaf': 2, 'randomforestclassifier__min_samples_split': 20, 'randomforestclassifier__n_estimators': 30}, {'randomforestclassifier__max_depth': 15, 'randomforestclassifier__min_samples_leaf': 5, 'randomforestclassifier__min_samples_split': 2, 'randomforestclassifier__n_estimators': 10}, {'randomforestclassifier__max_depth': 15, 'randomforestclassifier__min_samples_leaf': 5, 'randomforestclassifier__min_samples_split': 2, 'randomforestclassifier__n_estimators': 20}, {'randomforestclassifier__max_depth': 15, 'randomforestclassifier__min_samples_leaf': 5, 'randomforestclassifier__min_samples_split': 2, 'randomforestclassifier__n_estimators': 30}, {'randomforestclassifier__max_depth': 15, 'randomforestclassifier__min_samples_leaf': 5, 'randomforestclassifier__min_samples_split': 5, 'randomforestclassifier__n_estimators': 10}, {'randomforestclassifier__max_depth': 15, 'randomforestclassifier__min_samples_leaf': 5, 'randomforestclassifier__min_samples_split': 5, 'randomforestclassifier__n_estimators': 20}, {'randomforestclassifier__max_depth': 15, 'randomforestclassifier__min_samples_leaf': 5, 'randomforestclassifier__min_samples_split': 5, 'randomforestclassifier__n_estimators': 30}, {'randomforestclassifier__max_depth': 15, 'randomforestclassifier__min_samples_leaf': 5, 'randomforestclassifier__min_samples_split': 10, 'randomforestclassifier__n_estimators': 10}, {'randomforestclassifier__max_depth': 15, 'randomforestclassifier__min_samples_leaf': 5, 'randomforestclassifier__min_samples_split': 10, 'randomforestclassifier__n_estimators': 20}, {'randomforestclassifier__max_depth': 15, 'randomforestclassifier__min_samples_leaf': 5, 'randomforestclassifier__min_samples_split': 10, 'randomforestclassifier__n_estimators': 30}, {'randomforestclassifier__max_depth': 15, 'randomforestclassifier__min_samples_leaf': 5, 'randomforestclassifier__min_samples_split': 20, 'randomforestclassifier__n_estimators': 10}, {'randomforestclassifier__max_depth': 15, 'randomforestclassifier__min_samples_leaf': 5, 'randomforestclassifier__min_samples_split': 20, 'randomforestclassifier__n_estimators': 20}, {'randomforestclassifier__max_depth': 15, 'randomforestclassifier__min_samples_leaf': 5, 'randomforestclassifier__min_samples_split': 20, 'randomforestclassifier__n_estimators': 30}], 'split0_test_score': array([0.86016187, 0.87320144, 0.87477518, 0.86083633, 0.86780576,\n",
      "       0.87769784, 0.87005396, 0.87342626, 0.87927158, 0.86892986,\n",
      "       0.87882194, 0.87320144, 0.86128597, 0.8761241 , 0.87769784,\n",
      "       0.86668165, 0.87320144, 0.87432554, 0.86690647, 0.87095324,\n",
      "       0.87544964, 0.86645683, 0.8727518 , 0.87882194, 0.86353417,\n",
      "       0.87320144, 0.87702338, 0.86285971, 0.87185252, 0.87522482,\n",
      "       0.87589928, 0.87185252, 0.87522482, 0.86870504, 0.87342626,\n",
      "       0.87522482, 0.82823741, 0.82441547, 0.83273381, 0.81070144,\n",
      "       0.82711331, 0.82733813, 0.82666367, 0.82981115, 0.84240108,\n",
      "       0.81654676, 0.8403777 , 0.84082734, 0.82171763, 0.83205935,\n",
      "       0.83588129, 0.82059353, 0.83183453, 0.83385791, 0.82329137,\n",
      "       0.83745504, 0.83138489, 0.82396583, 0.83565647, 0.83026079,\n",
      "       0.82216727, 0.81946942, 0.82733813, 0.83071043, 0.82958633,\n",
      "       0.83475719, 0.81744604, 0.83048561, 0.83228417, 0.8158723 ,\n",
      "       0.83250899, 0.82891187, 0.86173561, 0.86443345, 0.86960432,\n",
      "       0.85926259, 0.86870504, 0.87072842, 0.86038669, 0.87095324,\n",
      "       0.86982914, 0.85971223, 0.87230216, 0.86848022, 0.85791367,\n",
      "       0.87410072, 0.8716277 , 0.86061151, 0.87252698, 0.87072842,\n",
      "       0.86128597, 0.86668165, 0.8705036 , 0.85926259, 0.8693795 ,\n",
      "       0.86892986, 0.86038669, 0.86982914, 0.86690647, 0.86803058,\n",
      "       0.87207734, 0.8727518 , 0.85656475, 0.86960432, 0.87297662,\n",
      "       0.86353417, 0.86623201, 0.86803058, 0.85611511, 0.87544964,\n",
      "       0.88017086, 0.86353417, 0.87432554, 0.8783723 , 0.86915468,\n",
      "       0.87297662, 0.87747302, 0.86285971, 0.87230216, 0.87567446,\n",
      "       0.86713129, 0.8727518 , 0.87455036, 0.86758094, 0.87230216,\n",
      "       0.87747302, 0.87140288, 0.87027878, 0.87589928, 0.86803058,\n",
      "       0.86668165, 0.87544964, 0.86758094, 0.8727518 , 0.87342626,\n",
      "       0.8693795 , 0.875     , 0.87702338, 0.86915468, 0.8705036 ,\n",
      "       0.88129496, 0.86668165, 0.87230216, 0.87432554]), 'split1_test_score': array([0.86106115, 0.87297662, 0.87320144, 0.85881295, 0.87140288,\n",
      "       0.87477518, 0.86353417, 0.87095324, 0.87185252, 0.86398381,\n",
      "       0.86533273, 0.87477518, 0.86128597, 0.87477518, 0.875     ,\n",
      "       0.86353417, 0.87297662, 0.87589928, 0.86420863, 0.86982914,\n",
      "       0.87365108, 0.86285971, 0.86803058, 0.87410072, 0.86645683,\n",
      "       0.87005396, 0.87657374, 0.86623201, 0.87140288, 0.87522482,\n",
      "       0.86623201, 0.86803058, 0.87342626, 0.85813849, 0.86960432,\n",
      "       0.87410072, 0.81789568, 0.82553957, 0.82306655, 0.81564748,\n",
      "       0.82576439, 0.82374101, 0.81070144, 0.83835432, 0.82913669,\n",
      "       0.81677158, 0.82868705, 0.83453237, 0.8125    , 0.83003597,\n",
      "       0.82643885, 0.81429856, 0.81991906, 0.83116007, 0.79833633,\n",
      "       0.82351619, 0.82913669, 0.81834532, 0.82419065, 0.82733813,\n",
      "       0.81879496, 0.84285072, 0.82688849, 0.8147482 , 0.82396583,\n",
      "       0.82239209, 0.82778777, 0.83565647, 0.82464029, 0.81744604,\n",
      "       0.84127698, 0.83340827, 0.86128597, 0.87005396, 0.86870504,\n",
      "       0.86173561, 0.86848022, 0.87185252, 0.85768885, 0.86555755,\n",
      "       0.87027878, 0.86061151, 0.86848022, 0.86848022, 0.86061151,\n",
      "       0.86803058, 0.86982914, 0.86173561, 0.87005396, 0.87072842,\n",
      "       0.85656475, 0.86780576, 0.86870504, 0.85903777, 0.86690647,\n",
      "       0.86758094, 0.85926259, 0.86780576, 0.87140288, 0.86285971,\n",
      "       0.86623201, 0.87117806, 0.85813849, 0.86960432, 0.86960432,\n",
      "       0.85589029, 0.86510791, 0.8693795 , 0.85678957, 0.87005396,\n",
      "       0.87859712, 0.86151079, 0.87095324, 0.87769784, 0.86668165,\n",
      "       0.86848022, 0.87432554, 0.86488309, 0.87297662, 0.87140288,\n",
      "       0.86465827, 0.87185252, 0.8794964 , 0.86600719, 0.8727518 ,\n",
      "       0.8761241 , 0.86623201, 0.87365108, 0.87320144, 0.86375899,\n",
      "       0.8693795 , 0.8772482 , 0.86353417, 0.87544964, 0.87365108,\n",
      "       0.86848022, 0.87589928, 0.88017086, 0.86600719, 0.87477518,\n",
      "       0.87140288, 0.86061151, 0.86870504, 0.87432554]), 'split2_test_score': array([0.85768885, 0.86668165, 0.8693795 , 0.86578237, 0.86533273,\n",
      "       0.87567446, 0.85903777, 0.87589928, 0.87297662, 0.85948741,\n",
      "       0.87702338, 0.87252698, 0.85791367, 0.87320144, 0.87320144,\n",
      "       0.86196043, 0.87185252, 0.87320144, 0.86803058, 0.86892986,\n",
      "       0.87185252, 0.86488309, 0.86848022, 0.87027878, 0.86443345,\n",
      "       0.87252698, 0.87297662, 0.86241007, 0.86780576, 0.87072842,\n",
      "       0.85768885, 0.87410072, 0.87095324, 0.86083633, 0.86870504,\n",
      "       0.86578237, 0.80373201, 0.83003597, 0.8181205 , 0.82329137,\n",
      "       0.82711331, 0.82643885, 0.82036871, 0.82508993, 0.82666367,\n",
      "       0.81767086, 0.82171763, 0.82059353, 0.80373201, 0.81991906,\n",
      "       0.81677158, 0.80890288, 0.8125    , 0.82688849, 0.82374101,\n",
      "       0.8158723 , 0.82688849, 0.81677158, 0.81205036, 0.82396583,\n",
      "       0.80642986, 0.82508993, 0.82059353, 0.82486511, 0.82284173,\n",
      "       0.82149281, 0.81205036, 0.82059353, 0.81946942, 0.81272482,\n",
      "       0.82261691, 0.8158723 , 0.85881295, 0.86623201, 0.86443345,\n",
      "       0.85701439, 0.86038669, 0.86780576, 0.85611511, 0.86128597,\n",
      "       0.86623201, 0.86016187, 0.85993705, 0.86488309, 0.85791367,\n",
      "       0.86151079, 0.86330935, 0.85611511, 0.86330935, 0.86106115,\n",
      "       0.85161871, 0.86578237, 0.86173561, 0.85296763, 0.86016187,\n",
      "       0.85948741, 0.85566547, 0.86982914, 0.86758094, 0.85139388,\n",
      "       0.86420863, 0.86151079, 0.85746403, 0.86533273, 0.86196043,\n",
      "       0.85746403, 0.85768885, 0.85836331, 0.85881295, 0.86645683,\n",
      "       0.87005396, 0.86173561, 0.86982914, 0.8705036 , 0.86668165,\n",
      "       0.87589928, 0.87679856, 0.85926259, 0.87252698, 0.8705036 ,\n",
      "       0.86128597, 0.8716277 , 0.87589928, 0.86285971, 0.86735612,\n",
      "       0.8716277 , 0.86735612, 0.87342626, 0.87410072, 0.86465827,\n",
      "       0.87027878, 0.86758094, 0.85971223, 0.86555755, 0.87252698,\n",
      "       0.85971223, 0.86713129, 0.87005396, 0.86443345, 0.87117806,\n",
      "       0.87072842, 0.86016187, 0.86803058, 0.86713129]), 'split3_test_score': array([0.86038669, 0.87005396, 0.86915468, 0.85633993, 0.87342626,\n",
      "       0.87455036, 0.86038669, 0.87252698, 0.87567446, 0.85903777,\n",
      "       0.86713129, 0.87544964, 0.86016187, 0.87230216, 0.87140288,\n",
      "       0.86196043, 0.86870504, 0.87522482, 0.8682554 , 0.87342626,\n",
      "       0.87005396, 0.86600719, 0.8682554 , 0.86960432, 0.86151079,\n",
      "       0.87477518, 0.87320144, 0.86151079, 0.86803058, 0.87342626,\n",
      "       0.86353417, 0.87027878, 0.87297662, 0.85723921, 0.86645683,\n",
      "       0.86690647, 0.82464029, 0.82396583, 0.82284173, 0.82576439,\n",
      "       0.82846223, 0.82531475, 0.82059353, 0.82216727, 0.81991906,\n",
      "       0.8181205 , 0.82059353, 0.82823741, 0.8158723 , 0.8169964 ,\n",
      "       0.83273381, 0.82171763, 0.82351619, 0.82553957, 0.80642986,\n",
      "       0.82868705, 0.82733813, 0.81767086, 0.82104317, 0.82733813,\n",
      "       0.81542266, 0.81744604, 0.82846223, 0.81339928, 0.8169964 ,\n",
      "       0.82531475, 0.81946942, 0.82059353, 0.82801259, 0.81272482,\n",
      "       0.82486511, 0.83205935, 0.85476619, 0.86420863, 0.87230216,\n",
      "       0.85971223, 0.86173561, 0.86690647, 0.85386691, 0.86510791,\n",
      "       0.86555755, 0.85971223, 0.86353417, 0.86848022, 0.85813849,\n",
      "       0.86690647, 0.86600719, 0.85274281, 0.86803058, 0.86915468,\n",
      "       0.86241007, 0.86443345, 0.86690647, 0.85791367, 0.8682554 ,\n",
      "       0.86398381, 0.85476619, 0.86533273, 0.86196043, 0.85701439,\n",
      "       0.85903777, 0.86645683, 0.85723921, 0.86128597, 0.86645683,\n",
      "       0.85274281, 0.86151079, 0.86555755, 0.85903777, 0.86510791,\n",
      "       0.87477518, 0.85836331, 0.86061151, 0.87567446, 0.85813849,\n",
      "       0.86420863, 0.8783723 , 0.86196043, 0.86915468, 0.87252698,\n",
      "       0.85746403, 0.87252698, 0.86915468, 0.86375899, 0.87365108,\n",
      "       0.87432554, 0.86555755, 0.86780576, 0.87207734, 0.86645683,\n",
      "       0.86555755, 0.8738759 , 0.86600719, 0.86915468, 0.87140288,\n",
      "       0.85858813, 0.86780576, 0.8738759 , 0.86578237, 0.87140288,\n",
      "       0.86713129, 0.86241007, 0.86892986, 0.8693795 ]), 'split4_test_score': array([0.85386691, 0.87005396, 0.87814748, 0.86353417, 0.87544964,\n",
      "       0.87589928, 0.86375899, 0.87657374, 0.8761241 , 0.86803058,\n",
      "       0.8682554 , 0.87567446, 0.86241007, 0.87410072, 0.87747302,\n",
      "       0.86330935, 0.87140288, 0.875     , 0.86061151, 0.87522482,\n",
      "       0.87634892, 0.86668165, 0.87320144, 0.87589928, 0.86645683,\n",
      "       0.87320144, 0.87410072, 0.86353417, 0.87410072, 0.87185252,\n",
      "       0.86106115, 0.87410072, 0.87589928, 0.85993705, 0.86645683,\n",
      "       0.87410072, 0.82149281, 0.82711331, 0.82441547, 0.81991906,\n",
      "       0.82441547, 0.83655576, 0.82711331, 0.82396583, 0.82778777,\n",
      "       0.81339928, 0.82531475, 0.83228417, 0.8102518 , 0.82531475,\n",
      "       0.83183453, 0.81834532, 0.83430755, 0.83610612, 0.80395683,\n",
      "       0.82733813, 0.83678058, 0.81542266, 0.82733813, 0.82868705,\n",
      "       0.82014388, 0.83228417, 0.83385791, 0.8192446 , 0.83543165,\n",
      "       0.83093525, 0.83295863, 0.82194245, 0.82531475, 0.81429856,\n",
      "       0.82891187, 0.82756295, 0.86420863, 0.86330935, 0.8716277 ,\n",
      "       0.86623201, 0.86510791, 0.86645683, 0.86196043, 0.86510791,\n",
      "       0.86600719, 0.85791367, 0.86218525, 0.86870504, 0.86106115,\n",
      "       0.86623201, 0.8682554 , 0.85251799, 0.86690647, 0.86645683,\n",
      "       0.85993705, 0.86735612, 0.8693795 , 0.86083633, 0.86510791,\n",
      "       0.86555755, 0.86375899, 0.87095324, 0.8682554 , 0.85903777,\n",
      "       0.86308453, 0.86960432, 0.86353417, 0.85993705, 0.86870504,\n",
      "       0.85993705, 0.86803058, 0.8705036 , 0.86308453, 0.87230216,\n",
      "       0.87432554, 0.85836331, 0.87297662, 0.8761241 , 0.86465827,\n",
      "       0.87432554, 0.87522482, 0.86465827, 0.8716277 , 0.8794964 ,\n",
      "       0.86353417, 0.87320144, 0.87634892, 0.86533273, 0.8783723 ,\n",
      "       0.875     , 0.86735612, 0.87477518, 0.87769784, 0.86488309,\n",
      "       0.86982914, 0.87297662, 0.86218525, 0.87365108, 0.87814748,\n",
      "       0.86016187, 0.87634892, 0.87095324, 0.86735612, 0.87117806,\n",
      "       0.87657374, 0.86623201, 0.8727518 , 0.87657374]), 'mean_test_score': array([0.85863309, 0.87059353, 0.87293165, 0.86106115, 0.87068345,\n",
      "       0.87571942, 0.86335432, 0.8738759 , 0.87517986, 0.86389388,\n",
      "       0.87131295, 0.87432554, 0.86061151, 0.87410072, 0.87495504,\n",
      "       0.86348921, 0.8716277 , 0.87473022, 0.86560252, 0.87167266,\n",
      "       0.87347122, 0.8653777 , 0.87014388, 0.87374101, 0.86447842,\n",
      "       0.8727518 , 0.87477518, 0.86330935, 0.87063849, 0.87329137,\n",
      "       0.86488309, 0.87167266, 0.87369604, 0.86097122, 0.86892986,\n",
      "       0.87122302, 0.81919964, 0.82621403, 0.82423561, 0.81906475,\n",
      "       0.82657374, 0.8278777 , 0.82108813, 0.8278777 , 0.82918165,\n",
      "       0.8165018 , 0.82733813, 0.83129496, 0.81281475, 0.82486511,\n",
      "       0.82873201, 0.81677158, 0.82441547, 0.83071043, 0.81115108,\n",
      "       0.82657374, 0.83030576, 0.81843525, 0.82405576, 0.82751799,\n",
      "       0.81659173, 0.82742806, 0.82742806, 0.82059353, 0.82576439,\n",
      "       0.82697842, 0.82194245, 0.82585432, 0.82594424, 0.81461331,\n",
      "       0.83003597, 0.82756295, 0.86016187, 0.86564748, 0.86933453,\n",
      "       0.86079137, 0.86488309, 0.86875   , 0.8580036 , 0.86560252,\n",
      "       0.86758094, 0.8596223 , 0.86528777, 0.86780576, 0.8591277 ,\n",
      "       0.86735612, 0.86780576, 0.8567446 , 0.86816547, 0.8676259 ,\n",
      "       0.85836331, 0.86641187, 0.86744604, 0.8580036 , 0.86596223,\n",
      "       0.86510791, 0.85876799, 0.86875   , 0.86722122, 0.85966727,\n",
      "       0.86492806, 0.86830036, 0.85858813, 0.86515288, 0.86794065,\n",
      "       0.85791367, 0.86371403, 0.86636691, 0.85876799, 0.8698741 ,\n",
      "       0.87558453, 0.86070144, 0.86973921, 0.87567446, 0.86506295,\n",
      "       0.87117806, 0.87643885, 0.86272482, 0.87171763, 0.87392086,\n",
      "       0.86281475, 0.87239209, 0.87508993, 0.86510791, 0.87288669,\n",
      "       0.87491007, 0.86758094, 0.87198741, 0.87459532, 0.86555755,\n",
      "       0.86834532, 0.87342626, 0.86380396, 0.87131295, 0.87383094,\n",
      "       0.86326439, 0.87243705, 0.87441547, 0.86654676, 0.87180755,\n",
      "       0.87342626, 0.86321942, 0.87014388, 0.87234712]), 'std_test_score': array([0.00264257, 0.00238182, 0.00339292, 0.00334068, 0.00367882,\n",
      "       0.00111416, 0.00380843, 0.00209457, 0.00260015, 0.00413474,\n",
      "       0.00550621, 0.0012477 , 0.0015248 , 0.00131092, 0.00243139,\n",
      "       0.00172629, 0.00160868, 0.00091488, 0.00288051, 0.00232947,\n",
      "       0.00230328, 0.00140328, 0.00232164, 0.00345551, 0.00187236,\n",
      "       0.00153801, 0.00170033, 0.00160239, 0.00240295, 0.00179631,\n",
      "       0.00618644, 0.00232512, 0.00174956, 0.00407067, 0.00256728,\n",
      "       0.0040202 , 0.00845563, 0.00219818, 0.00475302, 0.00538706,\n",
      "       0.00137563, 0.00450224, 0.00593355, 0.00581689, 0.00733258,\n",
      "       0.00165453, 0.0071137 , 0.00672599, 0.00596278, 0.0057459 ,\n",
      "       0.00670914, 0.00468144, 0.00794859, 0.00401416, 0.01043224,\n",
      "       0.0070331 , 0.00360386, 0.00293336, 0.00772754, 0.00207712,\n",
      "       0.00553514, 0.00927241, 0.00422901, 0.00645512, 0.00627244,\n",
      "       0.0051002 , 0.00747945, 0.00613491, 0.00420696, 0.00183528,\n",
      "       0.00656536, 0.0062109 , 0.00319529, 0.00239874, 0.00277687,\n",
      "       0.00310675, 0.00339769, 0.00214889, 0.00290218, 0.00309044,\n",
      "       0.00203583, 0.00091709, 0.0044883 , 0.00146392, 0.00140472,\n",
      "       0.00403926, 0.00291053, 0.00385066, 0.00309109, 0.00363458,\n",
      "       0.00390178, 0.00120147, 0.00308455, 0.00268507, 0.00323116,\n",
      "       0.0032796 , 0.00326849, 0.00198759, 0.00304828, 0.00558605,\n",
      "       0.00427608, 0.0039823 , 0.0025236 , 0.00404526, 0.00365179,\n",
      "       0.00365289, 0.00368979, 0.00432824, 0.00243554, 0.00377912,\n",
      "       0.00354789, 0.00203385, 0.00482311, 0.00276812, 0.00374418,\n",
      "       0.00427277, 0.00147493, 0.0020487 , 0.00135341, 0.00329006,\n",
      "       0.00327158, 0.00057932, 0.00338158, 0.00166428, 0.00351065,\n",
      "       0.00195787, 0.00203086, 0.00256965, 0.00199267, 0.00151149,\n",
      "       0.00187344, 0.00326415, 0.00277687, 0.00353361, 0.00229889,\n",
      "       0.00466284, 0.00408555, 0.0037743 , 0.00159986, 0.00151416,\n",
      "       0.00495625, 0.002752  , 0.0019733 , 0.00351295]), 'rank_test_score': array([102,  42,  24,  91,  40,   2,  85,  16,   5,  81,  36,  13,  95,\n",
      "        14,   7,  84,  35,  10,  69,  34,  20,  71,  43,  18,  80,  26,\n",
      "         9,  86,  41,  23,  78,  33,  19,  92,  48,  38, 136, 125, 131,\n",
      "       137, 123, 116, 134, 115, 113, 141, 121, 109, 143, 129, 114, 139,\n",
      "       130, 110, 144, 123, 111, 138, 132, 118, 140, 119, 119, 135, 128,\n",
      "       122, 133, 127, 126, 142, 112, 117,  96,  67,  47,  93,  79,  49,\n",
      "       105,  68,  58,  98,  72,  55,  99,  61,  55, 108,  53,  57, 104,\n",
      "        64,  60, 106,  66,  74, 100,  49,  62,  97,  77,  52, 103,  73,\n",
      "        54, 107,  83,  65, 101,  45,   4,  94,  46,   3,  76,  39,   1,\n",
      "        90,  32,  15,  89,  28,   6,  74,  25,   8,  58,  30,  11,  70,\n",
      "        51,  21,  82,  36,  17,  87,  27,  12,  63,  31,  21,  88,  44,\n",
      "        29], dtype=int32)}\n"
     ]
    }
   ],
   "source": [],
   "metadata": {
    "collapsed": false
   }
  }
 ],
 "metadata": {
  "kernelspec": {
   "name": "ailab",
   "language": "python",
   "display_name": "AILAB"
  },
  "language_info": {
   "codemirror_mode": {
    "name": "ipython",
    "version": 2
   },
   "file_extension": ".py",
   "mimetype": "text/x-python",
   "name": "python",
   "nbconvert_exporter": "python",
   "pygments_lexer": "ipython2",
   "version": "2.7.6"
  }
 },
 "nbformat": 4,
 "nbformat_minor": 0
}
