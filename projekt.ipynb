{
 "cells": [
  {
   "cell_type": "markdown",
   "metadata": {},
   "source": [
    "# Podstawy Sztucznej Inteligencji - Projekt Kacper Marzol"
   ]
  },
  {
   "cell_type": "markdown",
   "metadata": {},
   "source": [
    "Celem tego projektu jest klasyfikacja piosenek na podstawie ich kilku cech. Zbiór danych składa się z 278 tysięcy piosenek z serwisu Spotify. Dla szybkości obliczeń, użyjemy 10% danych"
   ]
  },
  {
   "cell_type": "code",
   "execution_count": null,
   "metadata": {
    "tags": []
   },
   "outputs": [
    {
     "name": "stdout",
     "output_type": "stream",
     "text": [
      "(500, 15)\n"
     ]
    },
    {
     "data": {
      "text/html": [
       "<div>\n",
       "<style scoped>\n",
       "    .dataframe tbody tr th:only-of-type {\n",
       "        vertical-align: middle;\n",
       "    }\n",
       "\n",
       "    .dataframe tbody tr th {\n",
       "        vertical-align: top;\n",
       "    }\n",
       "\n",
       "    .dataframe thead th {\n",
       "        text-align: right;\n",
       "    }\n",
       "</style>\n",
       "<table border=\"1\" class=\"dataframe\">\n",
       "  <thead>\n",
       "    <tr style=\"text-align: right;\">\n",
       "      <th></th>\n",
       "      <th>Unnamed: 0.1</th>\n",
       "      <th>Unnamed: 0</th>\n",
       "      <th>duration (ms)</th>\n",
       "      <th>danceability</th>\n",
       "      <th>energy</th>\n",
       "      <th>loudness</th>\n",
       "      <th>speechiness</th>\n",
       "      <th>acousticness</th>\n",
       "      <th>instrumentalness</th>\n",
       "      <th>liveness</th>\n",
       "      <th>valence</th>\n",
       "      <th>tempo</th>\n",
       "      <th>spec_rate</th>\n",
       "      <th>labels</th>\n",
       "      <th>uri</th>\n",
       "    </tr>\n",
       "  </thead>\n",
       "  <tbody>\n",
       "    <tr>\n",
       "      <th>0</th>\n",
       "      <td>0</td>\n",
       "      <td>0</td>\n",
       "      <td>195000.0</td>\n",
       "      <td>0.611</td>\n",
       "      <td>0.614</td>\n",
       "      <td>-8.815</td>\n",
       "      <td>0.0672</td>\n",
       "      <td>0.0169</td>\n",
       "      <td>0.000794</td>\n",
       "      <td>0.7530</td>\n",
       "      <td>0.520</td>\n",
       "      <td>128.050</td>\n",
       "      <td>3.446154e-07</td>\n",
       "      <td>2</td>\n",
       "      <td>spotify:track:3v6sBj3swihU8pXQQHhDZo</td>\n",
       "    </tr>\n",
       "    <tr>\n",
       "      <th>1</th>\n",
       "      <td>1</td>\n",
       "      <td>1</td>\n",
       "      <td>194641.0</td>\n",
       "      <td>0.638</td>\n",
       "      <td>0.781</td>\n",
       "      <td>-6.848</td>\n",
       "      <td>0.0285</td>\n",
       "      <td>0.0118</td>\n",
       "      <td>0.009530</td>\n",
       "      <td>0.3490</td>\n",
       "      <td>0.250</td>\n",
       "      <td>122.985</td>\n",
       "      <td>1.464234e-07</td>\n",
       "      <td>1</td>\n",
       "      <td>spotify:track:7KCWmFdw0TzoJbKtqRRzJO</td>\n",
       "    </tr>\n",
       "    <tr>\n",
       "      <th>2</th>\n",
       "      <td>2</td>\n",
       "      <td>2</td>\n",
       "      <td>217573.0</td>\n",
       "      <td>0.560</td>\n",
       "      <td>0.810</td>\n",
       "      <td>-8.029</td>\n",
       "      <td>0.0872</td>\n",
       "      <td>0.0071</td>\n",
       "      <td>0.000008</td>\n",
       "      <td>0.2410</td>\n",
       "      <td>0.247</td>\n",
       "      <td>170.044</td>\n",
       "      <td>4.007850e-07</td>\n",
       "      <td>1</td>\n",
       "      <td>spotify:track:2CY92qejUrhyPUASawNVRr</td>\n",
       "    </tr>\n",
       "    <tr>\n",
       "      <th>3</th>\n",
       "      <td>3</td>\n",
       "      <td>3</td>\n",
       "      <td>443478.0</td>\n",
       "      <td>0.525</td>\n",
       "      <td>0.699</td>\n",
       "      <td>-4.571</td>\n",
       "      <td>0.0353</td>\n",
       "      <td>0.0178</td>\n",
       "      <td>0.000088</td>\n",
       "      <td>0.0888</td>\n",
       "      <td>0.199</td>\n",
       "      <td>92.011</td>\n",
       "      <td>7.959809e-08</td>\n",
       "      <td>0</td>\n",
       "      <td>spotify:track:11BPfwVbB7vok7KfjBeW4k</td>\n",
       "    </tr>\n",
       "    <tr>\n",
       "      <th>4</th>\n",
       "      <td>4</td>\n",
       "      <td>4</td>\n",
       "      <td>225862.0</td>\n",
       "      <td>0.367</td>\n",
       "      <td>0.771</td>\n",
       "      <td>-5.863</td>\n",
       "      <td>0.1060</td>\n",
       "      <td>0.3650</td>\n",
       "      <td>0.000001</td>\n",
       "      <td>0.0965</td>\n",
       "      <td>0.163</td>\n",
       "      <td>115.917</td>\n",
       "      <td>4.693131e-07</td>\n",
       "      <td>1</td>\n",
       "      <td>spotify:track:3yUJKPsjvThlcQWTS9ttYx</td>\n",
       "    </tr>\n",
       "  </tbody>\n",
       "</table>\n",
       "</div>"
      ],
      "text/plain": [
       "   Unnamed: 0.1  Unnamed: 0  duration (ms)  danceability  energy  loudness  \\\n",
       "0             0           0       195000.0         0.611   0.614    -8.815   \n",
       "1             1           1       194641.0         0.638   0.781    -6.848   \n",
       "2             2           2       217573.0         0.560   0.810    -8.029   \n",
       "3             3           3       443478.0         0.525   0.699    -4.571   \n",
       "4             4           4       225862.0         0.367   0.771    -5.863   \n",
       "\n",
       "   speechiness  acousticness  instrumentalness  liveness  valence    tempo  \\\n",
       "0       0.0672        0.0169          0.000794    0.7530    0.520  128.050   \n",
       "1       0.0285        0.0118          0.009530    0.3490    0.250  122.985   \n",
       "2       0.0872        0.0071          0.000008    0.2410    0.247  170.044   \n",
       "3       0.0353        0.0178          0.000088    0.0888    0.199   92.011   \n",
       "4       0.1060        0.3650          0.000001    0.0965    0.163  115.917   \n",
       "\n",
       "      spec_rate  labels                                   uri  \n",
       "0  3.446154e-07       2  spotify:track:3v6sBj3swihU8pXQQHhDZo  \n",
       "1  1.464234e-07       1  spotify:track:7KCWmFdw0TzoJbKtqRRzJO  \n",
       "2  4.007850e-07       1  spotify:track:2CY92qejUrhyPUASawNVRr  \n",
       "3  7.959809e-08       0  spotify:track:11BPfwVbB7vok7KfjBeW4k  \n",
       "4  4.693131e-07       1  spotify:track:3yUJKPsjvThlcQWTS9ttYx  "
      ]
     },
     "execution_count": 10,
     "metadata": {},
     "output_type": "execute_result"
    }
   ],
   "source": [
    "import pandas as pd\n",
    "\n",
    "data = pd.read_csv(\"278k_labelled_uri.csv\")\n",
    "data=data.iloc[:500, :]\n",
    "print(data.shape)\n",
    "data.head()"
   ]
  },
  {
   "cell_type": "code",
   "execution_count": null,
   "metadata": {
    "collapsed": false,
    "jupyter": {
     "outputs_hidden": false
    }
   },
   "outputs": [
    {
     "data": {
      "text/plain": [
       "Index(['Unnamed: 0.1', 'Unnamed: 0', 'duration (ms)', 'danceability', 'energy',\n",
       "       'loudness', 'speechiness', 'acousticness', 'instrumentalness',\n",
       "       'liveness', 'valence', 'tempo', 'spec_rate', 'labels', 'uri'],\n",
       "      dtype='object')"
      ]
     },
     "execution_count": 11,
     "metadata": {},
     "output_type": "execute_result"
    }
   ],
   "source": [
    "data.columns"
   ]
  },
  {
   "cell_type": "markdown",
   "metadata": {},
   "source": [
    "Acousticness: miara akustyczności od 0 do 1\n",
    "Danceability: miara taneczności od 0 do 1\n",
    "Energy: miara energiczności od 0 do 1\n",
    "Instrumentalness: miara instrumentalności od 0 do 1\n",
    "Liveness: miara obecności publiki w nagraniu od 0 do 1\n",
    "Loudness: miara głośnośći w decybelach (-60 do 0 decybeli)\n",
    "Speechiness: miara słów w piosence od 0 do 1\n",
    "Valence: miara od 0 do 1 opisująca pozytywność przekazywaną przez piosenkę\n",
    "Tempo: tempo piosenki w BMP (uderzeń na minutę)"
   ]
  },
  {
   "cell_type": "code",
   "execution_count": null,
   "metadata": {
    "collapsed": false,
    "jupyter": {
     "outputs_hidden": false
    }
   },
   "outputs": [
    {
     "data": {
      "text/plain": [
       "1    262\n",
       "2    144\n",
       "0     94\n",
       "Name: labels, dtype: int64"
      ]
     },
     "execution_count": 12,
     "metadata": {},
     "output_type": "execute_result"
    }
   ],
   "source": [
    "data.labels.value_counts()"
   ]
  },
  {
   "cell_type": "markdown",
   "metadata": {},
   "source": [
    "0 - piosenka smutna\n",
    "1 - piosenka wesoła\n",
    "2 - piosenka energetyczna\n",
    "3 - piosenka spokojna"
   ]
  },
  {
   "cell_type": "markdown",
   "metadata": {},
   "source": [
    "Usuniemy zbędne kolumny, \"uri\", ponieważ URL piosenki nie jest potrzebny oraz dwie pierwsze kolumny"
   ]
  },
  {
   "cell_type": "code",
   "execution_count": null,
   "metadata": {
    "collapsed": false,
    "jupyter": {
     "outputs_hidden": false
    }
   },
   "outputs": [],
   "source": [
    "cols=[\"Unnamed: 0.1\", \"Unnamed: 0\",\"uri\"]\n",
    "data=data.drop(cols ,axis=1)"
   ]
  },
  {
   "cell_type": "code",
   "execution_count": null,
   "metadata": {
    "collapsed": false,
    "jupyter": {
     "outputs_hidden": false
    }
   },
   "outputs": [
    {
     "data": {
      "text/html": [
       "<div>\n",
       "<style scoped>\n",
       "    .dataframe tbody tr th:only-of-type {\n",
       "        vertical-align: middle;\n",
       "    }\n",
       "\n",
       "    .dataframe tbody tr th {\n",
       "        vertical-align: top;\n",
       "    }\n",
       "\n",
       "    .dataframe thead th {\n",
       "        text-align: right;\n",
       "    }\n",
       "</style>\n",
       "<table border=\"1\" class=\"dataframe\">\n",
       "  <thead>\n",
       "    <tr style=\"text-align: right;\">\n",
       "      <th></th>\n",
       "      <th>duration (ms)</th>\n",
       "      <th>danceability</th>\n",
       "      <th>energy</th>\n",
       "      <th>loudness</th>\n",
       "      <th>speechiness</th>\n",
       "      <th>acousticness</th>\n",
       "      <th>instrumentalness</th>\n",
       "      <th>liveness</th>\n",
       "      <th>valence</th>\n",
       "      <th>tempo</th>\n",
       "      <th>spec_rate</th>\n",
       "      <th>labels</th>\n",
       "    </tr>\n",
       "  </thead>\n",
       "  <tbody>\n",
       "    <tr>\n",
       "      <th>0</th>\n",
       "      <td>195000.0</td>\n",
       "      <td>0.611</td>\n",
       "      <td>0.614</td>\n",
       "      <td>-8.815</td>\n",
       "      <td>0.0672</td>\n",
       "      <td>0.0169</td>\n",
       "      <td>0.000794</td>\n",
       "      <td>0.7530</td>\n",
       "      <td>0.520</td>\n",
       "      <td>128.050</td>\n",
       "      <td>3.446154e-07</td>\n",
       "      <td>2</td>\n",
       "    </tr>\n",
       "    <tr>\n",
       "      <th>1</th>\n",
       "      <td>194641.0</td>\n",
       "      <td>0.638</td>\n",
       "      <td>0.781</td>\n",
       "      <td>-6.848</td>\n",
       "      <td>0.0285</td>\n",
       "      <td>0.0118</td>\n",
       "      <td>0.009530</td>\n",
       "      <td>0.3490</td>\n",
       "      <td>0.250</td>\n",
       "      <td>122.985</td>\n",
       "      <td>1.464234e-07</td>\n",
       "      <td>1</td>\n",
       "    </tr>\n",
       "    <tr>\n",
       "      <th>2</th>\n",
       "      <td>217573.0</td>\n",
       "      <td>0.560</td>\n",
       "      <td>0.810</td>\n",
       "      <td>-8.029</td>\n",
       "      <td>0.0872</td>\n",
       "      <td>0.0071</td>\n",
       "      <td>0.000008</td>\n",
       "      <td>0.2410</td>\n",
       "      <td>0.247</td>\n",
       "      <td>170.044</td>\n",
       "      <td>4.007850e-07</td>\n",
       "      <td>1</td>\n",
       "    </tr>\n",
       "    <tr>\n",
       "      <th>3</th>\n",
       "      <td>443478.0</td>\n",
       "      <td>0.525</td>\n",
       "      <td>0.699</td>\n",
       "      <td>-4.571</td>\n",
       "      <td>0.0353</td>\n",
       "      <td>0.0178</td>\n",
       "      <td>0.000088</td>\n",
       "      <td>0.0888</td>\n",
       "      <td>0.199</td>\n",
       "      <td>92.011</td>\n",
       "      <td>7.959809e-08</td>\n",
       "      <td>0</td>\n",
       "    </tr>\n",
       "    <tr>\n",
       "      <th>4</th>\n",
       "      <td>225862.0</td>\n",
       "      <td>0.367</td>\n",
       "      <td>0.771</td>\n",
       "      <td>-5.863</td>\n",
       "      <td>0.1060</td>\n",
       "      <td>0.3650</td>\n",
       "      <td>0.000001</td>\n",
       "      <td>0.0965</td>\n",
       "      <td>0.163</td>\n",
       "      <td>115.917</td>\n",
       "      <td>4.693131e-07</td>\n",
       "      <td>1</td>\n",
       "    </tr>\n",
       "  </tbody>\n",
       "</table>\n",
       "</div>"
      ],
      "text/plain": [
       "   duration (ms)  danceability  energy  loudness  speechiness  acousticness  \\\n",
       "0       195000.0         0.611   0.614    -8.815       0.0672        0.0169   \n",
       "1       194641.0         0.638   0.781    -6.848       0.0285        0.0118   \n",
       "2       217573.0         0.560   0.810    -8.029       0.0872        0.0071   \n",
       "3       443478.0         0.525   0.699    -4.571       0.0353        0.0178   \n",
       "4       225862.0         0.367   0.771    -5.863       0.1060        0.3650   \n",
       "\n",
       "   instrumentalness  liveness  valence    tempo     spec_rate  labels  \n",
       "0          0.000794    0.7530    0.520  128.050  3.446154e-07       2  \n",
       "1          0.009530    0.3490    0.250  122.985  1.464234e-07       1  \n",
       "2          0.000008    0.2410    0.247  170.044  4.007850e-07       1  \n",
       "3          0.000088    0.0888    0.199   92.011  7.959809e-08       0  \n",
       "4          0.000001    0.0965    0.163  115.917  4.693131e-07       1  "
      ]
     },
     "execution_count": 14,
     "metadata": {},
     "output_type": "execute_result"
    }
   ],
   "source": [
    "data.head()"
   ]
  },
  {
   "cell_type": "markdown",
   "metadata": {},
   "source": [
    "Dodamy trochę nanów do zbioru"
   ]
  },
  {
   "cell_type": "code",
   "execution_count": null,
   "metadata": {
    "collapsed": false,
    "jupyter": {
     "outputs_hidden": false
    }
   },
   "outputs": [
    {
     "data": {
      "text/plain": [
       "duration (ms)       58\n",
       "danceability        55\n",
       "energy              52\n",
       "loudness            56\n",
       "speechiness         37\n",
       "acousticness        52\n",
       "instrumentalness    43\n",
       "liveness            50\n",
       "valence             49\n",
       "tempo               58\n",
       "spec_rate           40\n",
       "dtype: int64"
      ]
     },
     "execution_count": 15,
     "metadata": {},
     "output_type": "execute_result"
    }
   ],
   "source": [
    "from sklearn.model_selection import train_test_split\n",
    "import numpy as np\n",
    "import random\n",
    "\n",
    "X = data.drop('labels', axis=1)\n",
    "y = data.labels\n",
    "\n",
    "ix = [(row, col) for row in range(X.shape[0]) for col in range(X.shape[1])]\n",
    "for row, col in random.sample(ix, int(round(.1*len(ix)))):\n",
    "    X.iat[row, col] = np.nan\n",
    "\n",
    "X.isna().sum()"
   ]
  },
  {
   "cell_type": "markdown",
   "metadata": {},
   "source": [
    "Podzielimy zbiór na część treningową, walidacyjną i testową:"
   ]
  },
  {
   "cell_type": "code",
   "execution_count": null,
   "metadata": {
    "collapsed": false,
    "jupyter": {
     "outputs_hidden": false
    }
   },
   "outputs": [
    {
     "name": "stdout",
     "output_type": "stream",
     "text": [
      "(400, 11)\n",
      "(400,)\n",
      "(50, 11)\n",
      "(50, 11)\n"
     ]
    }
   ],
   "source": [
    "X_train, X_rem, y_train, y_rem = train_test_split(X,y, train_size=0.8)\n",
    "X_val, X_test, y_val, y_test = train_test_split(X_rem,y_rem, test_size=0.5)\n",
    "\n",
    "print(X_train.shape)\n",
    "print(y_train.shape)\n",
    "print(X_test.shape)\n",
    "print(X_val.shape)"
   ]
  },
  {
   "cell_type": "code",
   "execution_count": null,
   "metadata": {
    "collapsed": false,
    "jupyter": {
     "outputs_hidden": false
    }
   },
   "outputs": [],
   "source": [
    "import seaborn as sns\n",
    "import matplotlib.pyplot as plt\n",
    "\n",
    "# xplot=X_train.iloc[:50, :]\n",
    "# sns.pairplot(xplot)\n",
    "# plt.show()"
   ]
  },
  {
   "cell_type": "markdown",
   "metadata": {},
   "source": [
    "Nauczymy kilka modeli"
   ]
  },
  {
   "cell_type": "code",
   "execution_count": null,
   "metadata": {
    "collapsed": false,
    "jupyter": {
     "outputs_hidden": false
    }
   },
   "outputs": [],
   "source": [
    "from sklearn.pipeline import Pipeline\n",
    "from sklearn.impute import SimpleImputer\n",
    "\n",
    "pipeline = Pipeline([(\"imputer\", SimpleImputer(strategy=\"median\"))])"
   ]
  },
  {
   "cell_type": "markdown",
   "metadata": {},
   "source": [
    "# Logistic Regression"
   ]
  },
  {
   "cell_type": "code",
   "execution_count": 94,
   "metadata": {
    "collapsed": false,
    "jupyter": {
     "outputs_hidden": false
    }
   },
   "outputs": [],
   "source": [
    "models=[]\n",
    "model_names=[]\n",
    "accuracy=[]\n"
   ]
  },
  {
   "cell_type": "code",
   "execution_count": 95,
   "metadata": {
    "collapsed": false,
    "jupyter": {
     "outputs_hidden": false
    }
   },
   "outputs": [],
   "source": [
    "from sklearn.preprocessing import StandardScaler\n",
    "from sklearn.model_selection import GridSearchCV\n",
    "from sklearn.pipeline import make_pipeline\n",
    "from sklearn.metrics import accuracy_score\n",
    "\n",
    "def pipeline_maker(model):\n",
    "    return make_pipeline(SimpleImputer(strategy=\"median\"), StandardScaler(),model)\n",
    "\n",
    "def test (model, param_grid_):\n",
    "    pipe=pipeline_maker(model)\n",
    "    search=GridSearchCV(pipe, param_grid=param_grid_,scoring='accuracy')\n",
    "    search.fit(X_train, y_train)\n",
    "    return search.best_estimator_, search.cv_results_"
   ]
  },
  {
   "cell_type": "code",
   "execution_count": 96,
   "metadata": {
    "collapsed": false,
    "jupyter": {
     "outputs_hidden": false
    }
   },
   "outputs": [],
   "source": [
    "from sklearn.linear_model import LogisticRegression\n",
    "\n",
    "logistic=LogisticRegression()\n",
    "\n",
    "param_grid={\n",
    "    'simpleimputer__strategy': ['mean', 'median'],\n",
    "    \"logisticregression__C\": [0.0001,0.001,0.01,0.1,1,10,100,1000]\n",
    "}\n",
    "\n",
    "logistic, scores = test(logistic, param_grid)\n",
    "\n",
    "results = pd.DataFrame(scores)\n",
    "\n",
    "models.append(logistic)\n",
    "model_names.append(\"Logistic Regression\")\n",
    "y_pred=logistic.predict(X_val)\n",
    "accuracy.append(accuracy_score(y_val,y_pred))"
   ]
  },
  {
   "cell_type": "code",
   "execution_count": 97,
   "metadata": {
    "collapsed": false,
    "jupyter": {
     "outputs_hidden": false
    }
   },
   "outputs": [],
   "source": [
    "def heatmap(values, xlabel, ylabel, xticklabels, yticklabels, cmap=None,\n",
    "            vmin=None, vmax=None, ax=None, fmt=\"%0.2f\"):\n",
    "    if ax is None:\n",
    "        ax = plt.gca()\n",
    "    # plot the mean cross-validation scores\n",
    "    img = ax.pcolor(values, cmap=cmap, vmin=vmin, vmax=vmax)\n",
    "    img.update_scalarmappable()\n",
    "    ax.set_xlabel(xlabel)\n",
    "    ax.set_ylabel(ylabel)\n",
    "    ax.set_xticks(np.arange(len(xticklabels)) + .5)\n",
    "    ax.set_yticks(np.arange(len(yticklabels)) + .5)\n",
    "    ax.set_xticklabels(xticklabels)\n",
    "    ax.set_yticklabels(yticklabels)\n",
    "    ax.set_aspect(1)\n",
    "\n",
    "    for p, color, value in zip(img.get_paths(), img.get_facecolors(),\n",
    "                               img.get_array()):\n",
    "        x, y = p.vertices[:-2, :].mean(0)\n",
    "        if np.mean(color[:3]) > 0.5:\n",
    "            c = 'k'\n",
    "        else:\n",
    "            c = 'w'\n",
    "        ax.text(x, y, fmt % value, color=c, ha=\"center\", va=\"center\")\n",
    "    return img"
   ]
  },
  {
   "cell_type": "code",
   "execution_count": 100,
   "metadata": {
    "collapsed": false,
    "jupyter": {
     "outputs_hidden": false
    }
   },
   "outputs": [
    {
     "name": "stdout",
     "output_type": "stream",
     "text": [
      "Pipeline(steps=[('simpleimputer', SimpleImputer(strategy='median')),\n",
      "                ('standardscaler', StandardScaler()),\n",
      "                ('logisticregression', LogisticRegression(C=10))])\n"
     ]
    },
    {
     "data": {
      "image/png": "[encoded data removed]",
      "text/plain": [
       "<Figure size 640x480 with 1 Axes>"
      ]
     },
     "metadata": {},
     "output_type": "display_data"
    }
   ],
   "source": [
    "print(logistic)\n",
    "scores = np.array(results.mean_test_score).reshape(8, 2, 1)\n",
    "scores = scores[:,:,0]\n",
    "# plot the mean cross-validation scores\n",
    "heatmap(scores, xlabel='simpleimputer__strategy', xticklabels=param_grid['simpleimputer__strategy'], ylabel='logisticregression__C', yticklabels=param_grid['logisticregression__C'], cmap=\"viridis\")\n",
    "plt.show()\n"
   ]
  },
  {
   "cell_type": "code",
   "execution_count": 110,
   "metadata": {},
   "outputs": [
    {
     "data": {
      "text/plain": [
       "<Axes: >"
      ]
     },
     "execution_count": 110,
     "metadata": {},
     "output_type": "execute_result"
    },
    {
     "data": {
      "image/png": "[encoded data removed]",
      "text/plain": [
       "<Figure size 640x480 with 2 Axes>"
      ]
     },
     "metadata": {},
     "output_type": "display_data"
    }
   ],
   "source": [
    "from sklearn.metrics import confusion_matrix\n",
    "sns.heatmap(confusion_matrix(y_val,y_pred),annot=True,fmt='3.0f',cmap=\"summer\")\n"
   ]
  },
  {
   "cell_type": "code",
   "execution_count": 111,
   "metadata": {},
   "outputs": [
    {
     "data": {
      "image/png": "[encoded data removed]",
      "text/plain": [
       "<Figure size 1000x600 with 1 Axes>"
      ]
     },
     "metadata": {},
     "output_type": "display_data"
    }
   ],
   "source": [
    "f, ax = plt.subplots(1,1,figsize=(10,6))\n",
    "\n",
    "x=range(11)\n",
    "\n",
    "columns = X.columns.tolist()\n",
    "\n",
    "w=logistic[\"logisticregression\"].coef_[0].reshape(-1,1)\n",
    "ax.plot(x,w)\n",
    "\n",
    "# print(data.columns)\n",
    "ax.set_xticks(x)\n",
    "ax.set_xticklabels(columns,rotation=90)\n",
    "\n",
    "\n",
    "\n",
    "plt.show()"
   ]
  },
  {
   "cell_type": "markdown",
   "metadata": {},
   "source": [
    "# Random Forests"
   ]
  },
  {
   "cell_type": "code",
   "execution_count": 112,
   "metadata": {
    "collapsed": false,
    "jupyter": {
     "outputs_hidden": false
    }
   },
   "outputs": [],
   "source": [
    "from sklearn.ensemble import RandomForestClassifier\n",
    "\n",
    "rfc=RandomForestClassifier()\n",
    "\n",
    "param_grid = {\n",
    "    'randomforestclassifier__n_estimators': [10,20,30],\n",
    "    'randomforestclassifier__max_depth': [None, 5, 10,15],\n",
    "    'randomforestclassifier__min_samples_split': [2, 5, 10, 20],\n",
    "    'randomforestclassifier__min_samples_leaf': [1, 2, 5]\n",
    "}\n",
    "\n",
    "rfc, scores = test(rfc, param_grid)\n",
    "\n",
    "results = pd.DataFrame(scores)\n",
    "\n",
    "\n",
    "y_pred=rfc.predict(X_val)\n",
    "models.append(rfc)\n",
    "model_names.append(\"Random Forest Classifier\")\n",
    "accuracy.append(accuracy_score(y_val,y_pred))"
   ]
  },
  {
   "cell_type": "code",
   "execution_count": 113,
   "metadata": {},
   "outputs": [
    {
     "data": {
      "text/plain": [
       "<Axes: >"
      ]
     },
     "execution_count": 113,
     "metadata": {},
     "output_type": "execute_result"
    },
    {
     "data": {
      "image/png": "[encoded data removed]",
      "text/plain": [
       "<Figure size 640x480 with 2 Axes>"
      ]
     },
     "metadata": {},
     "output_type": "display_data"
    }
   ],
   "source": [
    "sns.heatmap(confusion_matrix(y_val,y_pred),annot=True,fmt='3.0f',cmap=\"summer\")"
   ]
  },
  {
   "cell_type": "markdown",
   "metadata": {},
   "source": [
    "# SVM"
   ]
  },
  {
   "cell_type": "code",
   "execution_count": 114,
   "metadata": {
    "collapsed": false,
    "jupyter": {
     "outputs_hidden": false
    }
   },
   "outputs": [],
   "source": [
    "from sklearn.svm import SVC\n",
    "\n",
    "svc = SVC()\n",
    "\n",
    "param_grid = {\n",
    "    'svc__C': [0.001,0.01,0.1, 1, 10,100],\n",
    "    'svc__kernel': ['linear', 'rbf','sigmoid'],\n",
    "    'svc__gamma': [0.001,0.01,0.1, 1, 10,100]\n",
    "}\n",
    "\n",
    "svc, scores = test(svc, param_grid)\n",
    "\n",
    "results = pd.DataFrame(scores)\n",
    "\n",
    "\n",
    "y_pred=svc.predict(X_val)\n",
    "\n",
    "models.append(svc)\n",
    "model_names.append(\"SVC\")\n",
    "accuracy.append(accuracy_score(y_val,y_pred))"
   ]
  },
  {
   "cell_type": "code",
   "execution_count": 115,
   "metadata": {},
   "outputs": [
    {
     "data": {
      "text/plain": [
       "<Axes: >"
      ]
     },
     "execution_count": 115,
     "metadata": {},
     "output_type": "execute_result"
    },
    {
     "data": {
      "image/png": "[encoded data removed]",
      "text/plain": [
       "<Figure size 640x480 with 2 Axes>"
      ]
     },
     "metadata": {},
     "output_type": "display_data"
    }
   ],
   "source": [
    "sns.heatmap(confusion_matrix(y_val,y_pred),annot=True,fmt='3.0f',cmap=\"summer\")"
   ]
  },
  {
   "cell_type": "markdown",
   "metadata": {},
   "source": [
    "# KNN"
   ]
  },
  {
   "cell_type": "code",
   "execution_count": 116,
   "metadata": {
    "collapsed": false,
    "jupyter": {
     "outputs_hidden": false
    }
   },
   "outputs": [],
   "source": [
    "from sklearn.neighbors import KNeighborsClassifier\n",
    "\n",
    "knn = KNeighborsClassifier()\n",
    "\n",
    "param_grid = {\n",
    "    'kneighborsclassifier__n_neighbors': [5,10,15,20,25],\n",
    "    'kneighborsclassifier__weights': ['uniform', 'distance'],\n",
    "}\n",
    "\n",
    "knn, results = test(knn, param_grid)\n",
    "\n",
    "results = pd.DataFrame(results)\n",
    "\n",
    "y_pred=knn.predict(X_val)\n",
    "\n",
    "models.append(knn)\n",
    "model_names.append(\"K Nearest Neigbours\")\n",
    "accuracy.append(accuracy_score(y_val, y_pred))"
   ]
  },
  {
   "cell_type": "code",
   "execution_count": 117,
   "metadata": {
    "collapsed": false,
    "jupyter": {
     "outputs_hidden": false
    }
   },
   "outputs": [
    {
     "name": "stdout",
     "output_type": "stream",
     "text": [
      "Pipeline(steps=[('simpleimputer', SimpleImputer(strategy='median')),\n",
      "                ('standardscaler', StandardScaler()),\n",
      "                ('kneighborsclassifier',\n",
      "                 KNeighborsClassifier(n_neighbors=10, weights='distance'))])\n"
     ]
    },
    {
     "data": {
      "image/png": "[encoded data removed]",
      "text/plain": [
       "<Figure size 640x480 with 1 Axes>"
      ]
     },
     "metadata": {},
     "output_type": "display_data"
    }
   ],
   "source": [
    "print(knn)\n",
    "scores = np.array(results.mean_test_score).reshape(5, 2, 1)\n",
    "scores = scores[:,:,0]\n",
    "# plot the mean cross-validation scores\n",
    "heatmap(scores, xlabel='kneighborsclassifier__weights', xticklabels=param_grid['kneighborsclassifier__weights'], ylabel='kneighborsclassifier__n_neighbors', yticklabels=param_grid['kneighborsclassifier__n_neighbors'], cmap=\"viridis\")\n",
    "plt.show()\n",
    "\n",
    "plt.show()"
   ]
  },
  {
   "cell_type": "code",
   "execution_count": 118,
   "metadata": {},
   "outputs": [
    {
     "data": {
      "text/plain": [
       "<Axes: >"
      ]
     },
     "execution_count": 118,
     "metadata": {},
     "output_type": "execute_result"
    },
    {
     "data": {
      "image/png": "[encoded data removed]",
      "text/plain": [
       "<Figure size 640x480 with 2 Axes>"
      ]
     },
     "metadata": {},
     "output_type": "display_data"
    }
   ],
   "source": [
    "sns.heatmap(confusion_matrix(y_val,y_pred),annot=True,fmt='3.0f',cmap=\"summer\")"
   ]
  },
  {
   "cell_type": "markdown",
   "metadata": {},
   "source": [
    "# Decision Tree"
   ]
  },
  {
   "cell_type": "code",
   "execution_count": 121,
   "metadata": {},
   "outputs": [],
   "source": [
    "from sklearn.tree import DecisionTreeClassifier\n",
    "\n",
    "dtc = DecisionTreeClassifier()\n",
    "\n",
    "param_grid = {\n",
    "    'decisiontreeclassifier__max_depth': [None, 5, 10, 15, 20],\n",
    "    'decisiontreeclassifier__min_samples_split': [2, 5, 7, 10],\n",
    "    'decisiontreeclassifier__min_samples_leaf': [1, 2, 4],\n",
    "}\n",
    "\n",
    "dtc, results = test(dtc, param_grid)\n",
    "\n",
    "results = pd.DataFrame(results)\n",
    "\n",
    "\n",
    "y_pred=dtc.predict(X_val)\n",
    "\n",
    "models.append(dtc)\n",
    "model_names.append(\"Decision Trees\")\n",
    "accuracy.append(accuracy_score(y_val,y_pred))\n"
   ]
  },
  {
   "cell_type": "code",
   "execution_count": 49,
   "metadata": {},
   "outputs": [
    {
     "name": "stdout",
     "output_type": "stream",
     "text": [
      "Pipeline(steps=[('simpleimputer', SimpleImputer(strategy='median')),\n",
      "                ('standardscaler', StandardScaler()),\n",
      "                ('decisiontreeclassifier',\n",
      "                 DecisionTreeClassifier(max_depth=5, min_samples_leaf=2,\n",
      "                                        min_samples_split=10))])\n"
     ]
    }
   ],
   "source": [
    "print(models[-1])"
   ]
  },
  {
   "cell_type": "code",
   "execution_count": 122,
   "metadata": {},
   "outputs": [
    {
     "data": {
      "text/plain": [
       "<Axes: >"
      ]
     },
     "execution_count": 122,
     "metadata": {},
     "output_type": "execute_result"
    },
    {
     "data": {
      "image/png": "[encoded data removed]",
      "text/plain": [
       "<Figure size 640x480 with 2 Axes>"
      ]
     },
     "metadata": {},
     "output_type": "display_data"
    }
   ],
   "source": [
    "sns.heatmap(confusion_matrix(y_val,y_pred),annot=True,fmt='3.0f',cmap=\"summer\")"
   ]
  },
  {
   "cell_type": "code",
   "execution_count": 126,
   "metadata": {},
   "outputs": [
    {
     "data": {
      "text/html": [
       "<div>\n",
       "<style scoped>\n",
       "    .dataframe tbody tr th:only-of-type {\n",
       "        vertical-align: middle;\n",
       "    }\n",
       "\n",
       "    .dataframe tbody tr th {\n",
       "        vertical-align: top;\n",
       "    }\n",
       "\n",
       "    .dataframe thead th {\n",
       "        text-align: right;\n",
       "    }\n",
       "</style>\n",
       "<table border=\"1\" class=\"dataframe\">\n",
       "  <thead>\n",
       "    <tr style=\"text-align: right;\">\n",
       "      <th></th>\n",
       "      <th>model</th>\n",
       "      <th>accuracy</th>\n",
       "    </tr>\n",
       "  </thead>\n",
       "  <tbody>\n",
       "    <tr>\n",
       "      <th>0</th>\n",
       "      <td>Logistic Regression</td>\n",
       "      <td>0.72</td>\n",
       "    </tr>\n",
       "    <tr>\n",
       "      <th>1</th>\n",
       "      <td>Random Forest Classifier</td>\n",
       "      <td>0.82</td>\n",
       "    </tr>\n",
       "    <tr>\n",
       "      <th>2</th>\n",
       "      <td>SVC</td>\n",
       "      <td>0.82</td>\n",
       "    </tr>\n",
       "    <tr>\n",
       "      <th>3</th>\n",
       "      <td>K Nearest Neigbours</td>\n",
       "      <td>0.78</td>\n",
       "    </tr>\n",
       "    <tr>\n",
       "      <th>4</th>\n",
       "      <td>Decision Trees</td>\n",
       "      <td>0.76</td>\n",
       "    </tr>\n",
       "    <tr>\n",
       "      <th>5</th>\n",
       "      <td>Decision Trees</td>\n",
       "      <td>0.76</td>\n",
       "    </tr>\n",
       "  </tbody>\n",
       "</table>\n",
       "</div>"
      ],
      "text/plain": [
       "                      model  accuracy \n",
       "0       Logistic Regression       0.72\n",
       "1  Random Forest Classifier       0.82\n",
       "2                       SVC       0.82\n",
       "3       K Nearest Neigbours       0.78\n",
       "4            Decision Trees       0.76\n",
       "5            Decision Trees       0.76"
      ]
     },
     "execution_count": 126,
     "metadata": {},
     "output_type": "execute_result"
    }
   ],
   "source": [
    "df={'model' : model_names, 'accuracy ' : accuracy}\n",
    "df=pd.DataFrame(df)\n",
    "df"
   ]
  },
  {
   "cell_type": "markdown",
   "metadata": {},
   "source": [
    "Po sprawdzeniu kilku klasyfikatorów, zauważamy, że niektóre radzą sobie lepiej, wybierzemy 3 i stworzymy komitet głosujący"
   ]
  },
  {
   "cell_type": "code",
   "execution_count": 176,
   "metadata": {},
   "outputs": [
    {
     "data": {
      "text/html": [
       "<style>#sk-container-id-2 {color: black;background-color: white;}#sk-container-id-2 pre{padding: 0;}#sk-container-id-2 div.sk-toggleable {background-color: white;}#sk-container-id-2 label.sk-toggleable__label {cursor: pointer;display: block;width: 100%;margin-bottom: 0;padding: 0.3em;box-sizing: border-box;text-align: center;}#sk-container-id-2 label.sk-toggleable__label-arrow:before {content: \"▸\";float: left;margin-right: 0.25em;color: #696969;}#sk-container-id-2 label.sk-toggleable__label-arrow:hover:before {color: black;}#sk-container-id-2 div.sk-estimator:hover label.sk-toggleable__label-arrow:before {color: black;}#sk-container-id-2 div.sk-toggleable__content {max-height: 0;max-width: 0;overflow: hidden;text-align: left;background-color: #f0f8ff;}#sk-container-id-2 div.sk-toggleable__content pre {margin: 0.2em;color: black;border-radius: 0.25em;background-color: #f0f8ff;}#sk-container-id-2 input.sk-toggleable__control:checked~div.sk-toggleable__content {max-height: 200px;max-width: 100%;overflow: auto;}#sk-container-id-2 input.sk-toggleable__control:checked~label.sk-toggleable__label-arrow:before {content: \"▾\";}#sk-container-id-2 div.sk-estimator input.sk-toggleable__control:checked~label.sk-toggleable__label {background-color: #d4ebff;}#sk-container-id-2 div.sk-label input.sk-toggleable__control:checked~label.sk-toggleable__label {background-color: #d4ebff;}#sk-container-id-2 input.sk-hidden--visually {border: 0;clip: rect(1px 1px 1px 1px);clip: rect(1px, 1px, 1px, 1px);height: 1px;margin: -1px;overflow: hidden;padding: 0;position: absolute;width: 1px;}#sk-container-id-2 div.sk-estimator {font-family: monospace;background-color: #f0f8ff;border: 1px dotted black;border-radius: 0.25em;box-sizing: border-box;margin-bottom: 0.5em;}#sk-container-id-2 div.sk-estimator:hover {background-color: #d4ebff;}#sk-container-id-2 div.sk-parallel-item::after {content: \"\";width: 100%;border-bottom: 1px solid gray;flex-grow: 1;}#sk-container-id-2 div.sk-label:hover label.sk-toggleable__label {background-color: #d4ebff;}#sk-container-id-2 div.sk-serial::before {content: \"\";position: absolute;border-left: 1px solid gray;box-sizing: border-box;top: 0;bottom: 0;left: 50%;z-index: 0;}#sk-container-id-2 div.sk-serial {display: flex;flex-direction: column;align-items: center;background-color: white;padding-right: 0.2em;padding-left: 0.2em;position: relative;}#sk-container-id-2 div.sk-item {position: relative;z-index: 1;}#sk-container-id-2 div.sk-parallel {display: flex;align-items: stretch;justify-content: center;background-color: white;position: relative;}#sk-container-id-2 div.sk-item::before, #sk-container-id-2 div.sk-parallel-item::before {content: \"\";position: absolute;border-left: 1px solid gray;box-sizing: border-box;top: 0;bottom: 0;left: 50%;z-index: -1;}#sk-container-id-2 div.sk-parallel-item {display: flex;flex-direction: column;z-index: 1;position: relative;background-color: white;}#sk-container-id-2 div.sk-parallel-item:first-child::after {align-self: flex-end;width: 50%;}#sk-container-id-2 div.sk-parallel-item:last-child::after {align-self: flex-start;width: 50%;}#sk-container-id-2 div.sk-parallel-item:only-child::after {width: 0;}#sk-container-id-2 div.sk-dashed-wrapped {border: 1px dashed gray;margin: 0 0.4em 0.5em 0.4em;box-sizing: border-box;padding-bottom: 0.4em;background-color: white;}#sk-container-id-2 div.sk-label label {font-family: monospace;font-weight: bold;display: inline-block;line-height: 1.2em;}#sk-container-id-2 div.sk-label-container {text-align: center;}#sk-container-id-2 div.sk-container {/* jupyter's `normalize.less` sets `[hidden] { display: none; }` but bootstrap.min.css set `[hidden] { display: none !important; }` so we also need the `!important` here to be able to override the default hidden behavior on the sphinx rendered scikit-learn.org. See: https://github.com/scikit-learn/scikit-learn/issues/21755 */display: inline-block !important;position: relative;}#sk-container-id-2 div.sk-text-repr-fallback {display: none;}</style><div id=\"sk-container-id-2\" class=\"sk-top-container\"><div class=\"sk-text-repr-fallback\"><pre>VotingClassifier(estimators=[(&#x27;rfc&#x27;,\n",
       "                              Pipeline(steps=[(&#x27;simpleimputer&#x27;,\n",
       "                                               SimpleImputer(strategy=&#x27;median&#x27;)),\n",
       "                                              (&#x27;standardscaler&#x27;,\n",
       "                                               StandardScaler()),\n",
       "                                              (&#x27;randomforestclassifier&#x27;,\n",
       "                                               RandomForestClassifier(n_estimators=20))])),\n",
       "                             (&#x27;svc&#x27;,\n",
       "                              Pipeline(steps=[(&#x27;simpleimputer&#x27;,\n",
       "                                               SimpleImputer(strategy=&#x27;median&#x27;)),\n",
       "                                              (&#x27;standardscaler&#x27;,\n",
       "                                               StandardScaler()),\n",
       "                                              (&#x27;svc&#x27;,\n",
       "                                               SVC(C=100, gamma=0.001))])),\n",
       "                             (&#x27;knn&#x27;,\n",
       "                              Pipeline(steps=[(&#x27;simpleimputer&#x27;,\n",
       "                                               SimpleImputer(strategy=&#x27;median&#x27;)),\n",
       "                                              (&#x27;standardscaler&#x27;,\n",
       "                                               StandardScaler()),\n",
       "                                              (&#x27;kneighborsclassifier&#x27;,\n",
       "                                               KNeighborsClassifier(n_neighbors=10,\n",
       "                                                                    weights=&#x27;distance&#x27;))]))])</pre><b>In a Jupyter environment, please rerun this cell to show the HTML representation or trust the notebook. <br />On GitHub, the HTML representation is unable to render, please try loading this page with nbviewer.org.</b></div><div class=\"sk-container\" hidden><div class=\"sk-item sk-dashed-wrapped\"><div class=\"sk-label-container\"><div class=\"sk-label sk-toggleable\"><input class=\"sk-toggleable__control sk-hidden--visually\" id=\"sk-estimator-id-11\" type=\"checkbox\" ><label for=\"sk-estimator-id-11\" class=\"sk-toggleable__label sk-toggleable__label-arrow\">VotingClassifier</label><div class=\"sk-toggleable__content\"><pre>VotingClassifier(estimators=[(&#x27;rfc&#x27;,\n",
       "                              Pipeline(steps=[(&#x27;simpleimputer&#x27;,\n",
       "                                               SimpleImputer(strategy=&#x27;median&#x27;)),\n",
       "                                              (&#x27;standardscaler&#x27;,\n",
       "                                               StandardScaler()),\n",
       "                                              (&#x27;randomforestclassifier&#x27;,\n",
       "                                               RandomForestClassifier(n_estimators=20))])),\n",
       "                             (&#x27;svc&#x27;,\n",
       "                              Pipeline(steps=[(&#x27;simpleimputer&#x27;,\n",
       "                                               SimpleImputer(strategy=&#x27;median&#x27;)),\n",
       "                                              (&#x27;standardscaler&#x27;,\n",
       "                                               StandardScaler()),\n",
       "                                              (&#x27;svc&#x27;,\n",
       "                                               SVC(C=100, gamma=0.001))])),\n",
       "                             (&#x27;knn&#x27;,\n",
       "                              Pipeline(steps=[(&#x27;simpleimputer&#x27;,\n",
       "                                               SimpleImputer(strategy=&#x27;median&#x27;)),\n",
       "                                              (&#x27;standardscaler&#x27;,\n",
       "                                               StandardScaler()),\n",
       "                                              (&#x27;kneighborsclassifier&#x27;,\n",
       "                                               KNeighborsClassifier(n_neighbors=10,\n",
       "                                                                    weights=&#x27;distance&#x27;))]))])</pre></div></div></div><div class=\"sk-parallel\"><div class=\"sk-parallel-item\"><div class=\"sk-item\"><div class=\"sk-label-container\"><div class=\"sk-label sk-toggleable\"><label>rfc</label></div></div><div class=\"sk-serial\"><div class=\"sk-item\"><div class=\"sk-serial\"><div class=\"sk-item\"><div class=\"sk-estimator sk-toggleable\"><input class=\"sk-toggleable__control sk-hidden--visually\" id=\"sk-estimator-id-12\" type=\"checkbox\" ><label for=\"sk-estimator-id-12\" class=\"sk-toggleable__label sk-toggleable__label-arrow\">SimpleImputer</label><div class=\"sk-toggleable__content\"><pre>SimpleImputer(strategy=&#x27;median&#x27;)</pre></div></div></div><div class=\"sk-item\"><div class=\"sk-estimator sk-toggleable\"><input class=\"sk-toggleable__control sk-hidden--visually\" id=\"sk-estimator-id-13\" type=\"checkbox\" ><label for=\"sk-estimator-id-13\" class=\"sk-toggleable__label sk-toggleable__label-arrow\">StandardScaler</label><div class=\"sk-toggleable__content\"><pre>StandardScaler()</pre></div></div></div><div class=\"sk-item\"><div class=\"sk-estimator sk-toggleable\"><input class=\"sk-toggleable__control sk-hidden--visually\" id=\"sk-estimator-id-14\" type=\"checkbox\" ><label for=\"sk-estimator-id-14\" class=\"sk-toggleable__label sk-toggleable__label-arrow\">RandomForestClassifier</label><div class=\"sk-toggleable__content\"><pre>RandomForestClassifier(n_estimators=20)</pre></div></div></div></div></div></div></div></div><div class=\"sk-parallel-item\"><div class=\"sk-item\"><div class=\"sk-label-container\"><div class=\"sk-label sk-toggleable\"><label>svc</label></div></div><div class=\"sk-serial\"><div class=\"sk-item\"><div class=\"sk-serial\"><div class=\"sk-item\"><div class=\"sk-estimator sk-toggleable\"><input class=\"sk-toggleable__control sk-hidden--visually\" id=\"sk-estimator-id-15\" type=\"checkbox\" ><label for=\"sk-estimator-id-15\" class=\"sk-toggleable__label sk-toggleable__label-arrow\">SimpleImputer</label><div class=\"sk-toggleable__content\"><pre>SimpleImputer(strategy=&#x27;median&#x27;)</pre></div></div></div><div class=\"sk-item\"><div class=\"sk-estimator sk-toggleable\"><input class=\"sk-toggleable__control sk-hidden--visually\" id=\"sk-estimator-id-16\" type=\"checkbox\" ><label for=\"sk-estimator-id-16\" class=\"sk-toggleable__label sk-toggleable__label-arrow\">StandardScaler</label><div class=\"sk-toggleable__content\"><pre>StandardScaler()</pre></div></div></div><div class=\"sk-item\"><div class=\"sk-estimator sk-toggleable\"><input class=\"sk-toggleable__control sk-hidden--visually\" id=\"sk-estimator-id-17\" type=\"checkbox\" ><label for=\"sk-estimator-id-17\" class=\"sk-toggleable__label sk-toggleable__label-arrow\">SVC</label><div class=\"sk-toggleable__content\"><pre>SVC(C=100, gamma=0.001)</pre></div></div></div></div></div></div></div></div><div class=\"sk-parallel-item\"><div class=\"sk-item\"><div class=\"sk-label-container\"><div class=\"sk-label sk-toggleable\"><label>knn</label></div></div><div class=\"sk-serial\"><div class=\"sk-item\"><div class=\"sk-serial\"><div class=\"sk-item\"><div class=\"sk-estimator sk-toggleable\"><input class=\"sk-toggleable__control sk-hidden--visually\" id=\"sk-estimator-id-18\" type=\"checkbox\" ><label for=\"sk-estimator-id-18\" class=\"sk-toggleable__label sk-toggleable__label-arrow\">SimpleImputer</label><div class=\"sk-toggleable__content\"><pre>SimpleImputer(strategy=&#x27;median&#x27;)</pre></div></div></div><div class=\"sk-item\"><div class=\"sk-estimator sk-toggleable\"><input class=\"sk-toggleable__control sk-hidden--visually\" id=\"sk-estimator-id-19\" type=\"checkbox\" ><label for=\"sk-estimator-id-19\" class=\"sk-toggleable__label sk-toggleable__label-arrow\">StandardScaler</label><div class=\"sk-toggleable__content\"><pre>StandardScaler()</pre></div></div></div><div class=\"sk-item\"><div class=\"sk-estimator sk-toggleable\"><input class=\"sk-toggleable__control sk-hidden--visually\" id=\"sk-estimator-id-20\" type=\"checkbox\" ><label for=\"sk-estimator-id-20\" class=\"sk-toggleable__label sk-toggleable__label-arrow\">KNeighborsClassifier</label><div class=\"sk-toggleable__content\"><pre>KNeighborsClassifier(n_neighbors=10, weights=&#x27;distance&#x27;)</pre></div></div></div></div></div></div></div></div></div></div></div></div>"
      ],
      "text/plain": [
       "VotingClassifier(estimators=[('rfc',\n",
       "                              Pipeline(steps=[('simpleimputer',\n",
       "                                               SimpleImputer(strategy='median')),\n",
       "                                              ('standardscaler',\n",
       "                                               StandardScaler()),\n",
       "                                              ('randomforestclassifier',\n",
       "                                               RandomForestClassifier(n_estimators=20))])),\n",
       "                             ('svc',\n",
       "                              Pipeline(steps=[('simpleimputer',\n",
       "                                               SimpleImputer(strategy='median')),\n",
       "                                              ('standardscaler',\n",
       "                                               StandardScaler()),\n",
       "                                              ('svc',\n",
       "                                               SVC(C=100, gamma=0.001))])),\n",
       "                             ('knn',\n",
       "                              Pipeline(steps=[('simpleimputer',\n",
       "                                               SimpleImputer(strategy='median')),\n",
       "                                              ('standardscaler',\n",
       "                                               StandardScaler()),\n",
       "                                              ('kneighborsclassifier',\n",
       "                                               KNeighborsClassifier(n_neighbors=10,\n",
       "                                                                    weights='distance'))]))])"
      ]
     },
     "execution_count": 176,
     "metadata": {},
     "output_type": "execute_result"
    }
   ],
   "source": [
    "from sklearn.ensemble import VotingClassifier\n",
    "\n",
    "voting_classifier = VotingClassifier(\n",
    "    estimators=[('rfc', rfc), ('svc', svc), ('knn', knn)],\n",
    "    voting='hard' )\n",
    "\n",
    "voting_classifier.fit(X_train,y_train)"
   ]
  },
  {
   "cell_type": "code",
   "execution_count": 179,
   "metadata": {},
   "outputs": [
    {
     "name": "stdout",
     "output_type": "stream",
     "text": [
      "0.84\n"
     ]
    }
   ],
   "source": [
    "y_pred=voting_classifier.predict(X_val)\n",
    "print(accuracy_score(y_val, y_pred))"
   ]
  },
  {
   "cell_type": "markdown",
   "metadata": {},
   "source": [
    "Zastosowanie komitetu klasyfikatorów sprawiło, że accuracy jest większe o 0.02, niż którykolwiek z klasyfiaktorów z osobna"
   ]
  },
  {
   "cell_type": "markdown",
   "metadata": {},
   "source": [
    "Sprawdźmy jeszcze modele oparte na sieciach neuronowych"
   ]
  },
  {
   "cell_type": "code",
   "execution_count": 198,
   "metadata": {},
   "outputs": [
    {
     "data": {
      "text/plain": [
       "(400, 11)"
      ]
     },
     "execution_count": 198,
     "metadata": {},
     "output_type": "execute_result"
    }
   ],
   "source": [
    "import tensorflow as tf\n",
    "from tensorflow import keras\n",
    "\n",
    "from keras.layers import Dense\n",
    "from keras.layers import InputLayer\n",
    "from keras.models import Sequential\n",
    "\n",
    "X_train.shape"
   ]
  },
  {
   "cell_type": "markdown",
   "metadata": {},
   "source": [
    "Na początek prosty model"
   ]
  },
  {
   "cell_type": "code",
   "execution_count": 215,
   "metadata": {
    "tags": []
   },
   "outputs": [
    {
     "name": "stdout",
     "output_type": "stream",
     "text": [
      "Model: \"sequential_403\"\n",
      "_________________________________________________________________\n",
      " Layer (type)                Output Shape              Param #   \n",
      "=================================================================\n",
      " dense_1315 (Dense)          (None, 300)               3600      \n",
      "                                                                 \n",
      " dense_1316 (Dense)          (None, 100)               30100     \n",
      "                                                                 \n",
      " dense_1317 (Dense)          (None, 3)                 303       \n",
      "                                                                 \n",
      "=================================================================\n",
      "Total params: 34,003\n",
      "Trainable params: 34,003\n",
      "Non-trainable params: 0\n",
      "_________________________________________________________________\n"
     ]
    }
   ],
   "source": [
    "model1 = keras.models.Sequential([\n",
    "    keras.layers.InputLayer(input_shape=11),\n",
    "    keras.layers.Dense(300, activation=\"relu\"),\n",
    "    keras.layers.Dense(100, activation=\"relu\"),\n",
    "    keras.layers.Dense(3, activation=\"softmax\")\n",
    "])\n",
    "\n",
    "model.summary()"
   ]
  },
  {
   "cell_type": "code",
   "execution_count": 216,
   "metadata": {},
   "outputs": [],
   "source": [
    "model1.compile(loss=\"sparse_categorical_crossentropy\",\n",
    "              optimizer=\"adam\",\n",
    "              metrics=[\"accuracy\"])\n",
    "\n"
   ]
  },
  {
   "cell_type": "code",
   "execution_count": 217,
   "metadata": {},
   "outputs": [
    {
     "name": "stdout",
     "output_type": "stream",
     "text": [
      "Epoch 1/30\n",
      "13/13 [==============================] - 0s 6ms/step - loss: nan - accuracy: 0.1975 - val_loss: nan - val_accuracy: 0.1800\n",
      "Epoch 2/30\n",
      "13/13 [==============================] - 0s 2ms/step - loss: nan - accuracy: 0.1975 - val_loss: nan - val_accuracy: 0.1800\n",
      "Epoch 3/30\n",
      "13/13 [==============================] - 0s 2ms/step - loss: nan - accuracy: 0.1975 - val_loss: nan - val_accuracy: 0.1800\n",
      "Epoch 4/30\n",
      "13/13 [==============================] - 0s 2ms/step - loss: nan - accuracy: 0.1975 - val_loss: nan - val_accuracy: 0.1800\n",
      "Epoch 5/30\n",
      "13/13 [==============================] - 0s 2ms/step - loss: nan - accuracy: 0.1975 - val_loss: nan - val_accuracy: 0.1800\n",
      "Epoch 6/30\n",
      "13/13 [==============================] - 0s 2ms/step - loss: nan - accuracy: 0.1975 - val_loss: nan - val_accuracy: 0.1800\n",
      "Epoch 7/30\n",
      "13/13 [==============================] - 0s 2ms/step - loss: nan - accuracy: 0.1975 - val_loss: nan - val_accuracy: 0.1800\n",
      "Epoch 8/30\n",
      "13/13 [==============================] - 0s 2ms/step - loss: nan - accuracy: 0.1975 - val_loss: nan - val_accuracy: 0.1800\n",
      "Epoch 9/30\n",
      "13/13 [==============================] - 0s 2ms/step - loss: nan - accuracy: 0.1975 - val_loss: nan - val_accuracy: 0.1800\n",
      "Epoch 10/30\n",
      "13/13 [==============================] - 0s 2ms/step - loss: nan - accuracy: 0.1975 - val_loss: nan - val_accuracy: 0.1800\n",
      "Epoch 11/30\n",
      "13/13 [==============================] - 0s 2ms/step - loss: nan - accuracy: 0.1975 - val_loss: nan - val_accuracy: 0.1800\n",
      "Epoch 12/30\n",
      "13/13 [==============================] - 0s 2ms/step - loss: nan - accuracy: 0.1975 - val_loss: nan - val_accuracy: 0.1800\n",
      "Epoch 13/30\n",
      "13/13 [==============================] - 0s 2ms/step - loss: nan - accuracy: 0.1975 - val_loss: nan - val_accuracy: 0.1800\n",
      "Epoch 14/30\n",
      "13/13 [==============================] - 0s 2ms/step - loss: nan - accuracy: 0.1975 - val_loss: nan - val_accuracy: 0.1800\n",
      "Epoch 15/30\n",
      "13/13 [==============================] - 0s 2ms/step - loss: nan - accuracy: 0.1975 - val_loss: nan - val_accuracy: 0.1800\n",
      "Epoch 16/30\n",
      "13/13 [==============================] - 0s 2ms/step - loss: nan - accuracy: 0.1975 - val_loss: nan - val_accuracy: 0.1800\n",
      "Epoch 17/30\n",
      "13/13 [==============================] - 0s 2ms/step - loss: nan - accuracy: 0.1975 - val_loss: nan - val_accuracy: 0.1800\n",
      "Epoch 18/30\n",
      "13/13 [==============================] - 0s 2ms/step - loss: nan - accuracy: 0.1975 - val_loss: nan - val_accuracy: 0.1800\n",
      "Epoch 19/30\n",
      "13/13 [==============================] - 0s 2ms/step - loss: nan - accuracy: 0.1975 - val_loss: nan - val_accuracy: 0.1800\n",
      "Epoch 20/30\n",
      "13/13 [==============================] - 0s 2ms/step - loss: nan - accuracy: 0.1975 - val_loss: nan - val_accuracy: 0.1800\n",
      "Epoch 21/30\n",
      "13/13 [==============================] - 0s 2ms/step - loss: nan - accuracy: 0.1975 - val_loss: nan - val_accuracy: 0.1800\n",
      "Epoch 22/30\n",
      "13/13 [==============================] - 0s 2ms/step - loss: nan - accuracy: 0.1975 - val_loss: nan - val_accuracy: 0.1800\n",
      "Epoch 23/30\n",
      "13/13 [==============================] - 0s 2ms/step - loss: nan - accuracy: 0.1975 - val_loss: nan - val_accuracy: 0.1800\n",
      "Epoch 24/30\n",
      "13/13 [==============================] - 0s 2ms/step - loss: nan - accuracy: 0.1975 - val_loss: nan - val_accuracy: 0.1800\n",
      "Epoch 25/30\n",
      "13/13 [==============================] - 0s 2ms/step - loss: nan - accuracy: 0.1975 - val_loss: nan - val_accuracy: 0.1800\n",
      "Epoch 26/30\n",
      "13/13 [==============================] - 0s 2ms/step - loss: nan - accuracy: 0.1975 - val_loss: nan - val_accuracy: 0.1800\n",
      "Epoch 27/30\n",
      "13/13 [==============================] - 0s 2ms/step - loss: nan - accuracy: 0.1975 - val_loss: nan - val_accuracy: 0.1800\n",
      "Epoch 28/30\n",
      "13/13 [==============================] - 0s 2ms/step - loss: nan - accuracy: 0.1975 - val_loss: nan - val_accuracy: 0.1800\n",
      "Epoch 29/30\n",
      "13/13 [==============================] - 0s 2ms/step - loss: nan - accuracy: 0.1975 - val_loss: nan - val_accuracy: 0.1800\n",
      "Epoch 30/30\n",
      "13/13 [==============================] - 0s 2ms/step - loss: nan - accuracy: 0.1975 - val_loss: nan - val_accuracy: 0.1800\n"
     ]
    }
   ],
   "source": [
    "history1 = model1.fit(X_train, y_train, epochs=30,\n",
    "                    validation_data=(X_val, y_val))"
   ]
  },
  {
   "cell_type": "code",
   "execution_count": null,
   "metadata": {},
   "outputs": [],
   "source": []
  }
 ],
 "metadata": {
  "kernelspec": {
   "display_name": "AILAB",
   "language": "python",
   "name": "ailab"
  },
  "language_info": {
   "codemirror_mode": {
    "name": "ipython",
    "version": 3
   },
   "file_extension": ".py",
   "mimetype": "text/x-python",
   "name": "python",
   "nbconvert_exporter": "python",
   "pygments_lexer": "ipython3",
   "version": "3.10.9"
  }
 },
 "nbformat": 4,
 "nbformat_minor": 4
}
