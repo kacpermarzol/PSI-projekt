{
 "cells": [
  {
   "cell_type": "markdown",
   "source": [
    "# Podstawy Sztucznej Inteligencji - Projekt Kacper Marzol"
   ],
   "metadata": {
    "collapsed": false
   }
  },
  {
   "cell_type": "markdown",
   "source": [
    "Celem tego projektu jest klasyfikacja piosenek na podstawie ich kilku cech. Zbiór danych składa się z 278 tysięcy piosenek z serwisu Spotify."
   ],
   "metadata": {
    "collapsed": false
   }
  },
  {
   "cell_type": "code",
   "execution_count": 1,
   "metadata": {
    "collapsed": true
   },
   "outputs": [
    {
     "name": "stdout",
     "output_type": "stream",
     "text": [
      "(277938, 15)\n"
     ]
    },
    {
     "data": {
      "text/plain": "   Unnamed: 0.1  Unnamed: 0  duration (ms)  danceability  energy  loudness  \\\n0             0           0       195000.0         0.611   0.614    -8.815   \n1             1           1       194641.0         0.638   0.781    -6.848   \n2             2           2       217573.0         0.560   0.810    -8.029   \n3             3           3       443478.0         0.525   0.699    -4.571   \n4             4           4       225862.0         0.367   0.771    -5.863   \n\n   speechiness  acousticness  instrumentalness  liveness  valence    tempo  \\\n0       0.0672        0.0169          0.000794    0.7530    0.520  128.050   \n1       0.0285        0.0118          0.009530    0.3490    0.250  122.985   \n2       0.0872        0.0071          0.000008    0.2410    0.247  170.044   \n3       0.0353        0.0178          0.000088    0.0888    0.199   92.011   \n4       0.1060        0.3650          0.000001    0.0965    0.163  115.917   \n\n      spec_rate  labels                                   uri  \n0  3.446154e-07       2  spotify:track:3v6sBj3swihU8pXQQHhDZo  \n1  1.464234e-07       1  spotify:track:7KCWmFdw0TzoJbKtqRRzJO  \n2  4.007850e-07       1  spotify:track:2CY92qejUrhyPUASawNVRr  \n3  7.959809e-08       0  spotify:track:11BPfwVbB7vok7KfjBeW4k  \n4  4.693131e-07       1  spotify:track:3yUJKPsjvThlcQWTS9ttYx  ",
      "text/html": "<div>\n<style scoped>\n    .dataframe tbody tr th:only-of-type {\n        vertical-align: middle;\n    }\n\n    .dataframe tbody tr th {\n        vertical-align: top;\n    }\n\n    .dataframe thead th {\n        text-align: right;\n    }\n</style>\n<table border=\"1\" class=\"dataframe\">\n  <thead>\n    <tr style=\"text-align: right;\">\n      <th></th>\n      <th>Unnamed: 0.1</th>\n      <th>Unnamed: 0</th>\n      <th>duration (ms)</th>\n      <th>danceability</th>\n      <th>energy</th>\n      <th>loudness</th>\n      <th>speechiness</th>\n      <th>acousticness</th>\n      <th>instrumentalness</th>\n      <th>liveness</th>\n      <th>valence</th>\n      <th>tempo</th>\n      <th>spec_rate</th>\n      <th>labels</th>\n      <th>uri</th>\n    </tr>\n  </thead>\n  <tbody>\n    <tr>\n      <th>0</th>\n      <td>0</td>\n      <td>0</td>\n      <td>195000.0</td>\n      <td>0.611</td>\n      <td>0.614</td>\n      <td>-8.815</td>\n      <td>0.0672</td>\n      <td>0.0169</td>\n      <td>0.000794</td>\n      <td>0.7530</td>\n      <td>0.520</td>\n      <td>128.050</td>\n      <td>3.446154e-07</td>\n      <td>2</td>\n      <td>spotify:track:3v6sBj3swihU8pXQQHhDZo</td>\n    </tr>\n    <tr>\n      <th>1</th>\n      <td>1</td>\n      <td>1</td>\n      <td>194641.0</td>\n      <td>0.638</td>\n      <td>0.781</td>\n      <td>-6.848</td>\n      <td>0.0285</td>\n      <td>0.0118</td>\n      <td>0.009530</td>\n      <td>0.3490</td>\n      <td>0.250</td>\n      <td>122.985</td>\n      <td>1.464234e-07</td>\n      <td>1</td>\n      <td>spotify:track:7KCWmFdw0TzoJbKtqRRzJO</td>\n    </tr>\n    <tr>\n      <th>2</th>\n      <td>2</td>\n      <td>2</td>\n      <td>217573.0</td>\n      <td>0.560</td>\n      <td>0.810</td>\n      <td>-8.029</td>\n      <td>0.0872</td>\n      <td>0.0071</td>\n      <td>0.000008</td>\n      <td>0.2410</td>\n      <td>0.247</td>\n      <td>170.044</td>\n      <td>4.007850e-07</td>\n      <td>1</td>\n      <td>spotify:track:2CY92qejUrhyPUASawNVRr</td>\n    </tr>\n    <tr>\n      <th>3</th>\n      <td>3</td>\n      <td>3</td>\n      <td>443478.0</td>\n      <td>0.525</td>\n      <td>0.699</td>\n      <td>-4.571</td>\n      <td>0.0353</td>\n      <td>0.0178</td>\n      <td>0.000088</td>\n      <td>0.0888</td>\n      <td>0.199</td>\n      <td>92.011</td>\n      <td>7.959809e-08</td>\n      <td>0</td>\n      <td>spotify:track:11BPfwVbB7vok7KfjBeW4k</td>\n    </tr>\n    <tr>\n      <th>4</th>\n      <td>4</td>\n      <td>4</td>\n      <td>225862.0</td>\n      <td>0.367</td>\n      <td>0.771</td>\n      <td>-5.863</td>\n      <td>0.1060</td>\n      <td>0.3650</td>\n      <td>0.000001</td>\n      <td>0.0965</td>\n      <td>0.163</td>\n      <td>115.917</td>\n      <td>4.693131e-07</td>\n      <td>1</td>\n      <td>spotify:track:3yUJKPsjvThlcQWTS9ttYx</td>\n    </tr>\n  </tbody>\n</table>\n</div>"
     },
     "execution_count": 1,
     "metadata": {},
     "output_type": "execute_result"
    }
   ],
   "source": [
    "import pandas as pd\n",
    "\n",
    "data = pd.read_csv(\"278k_labelled_uri.csv\")\n",
    "print(data.shape)\n",
    "data.head()"
   ]
  },
  {
   "cell_type": "code",
   "execution_count": 2,
   "outputs": [
    {
     "data": {
      "text/plain": "Index(['Unnamed: 0.1', 'Unnamed: 0', 'duration (ms)', 'danceability', 'energy',\n       'loudness', 'speechiness', 'acousticness', 'instrumentalness',\n       'liveness', 'valence', 'tempo', 'spec_rate', 'labels', 'uri'],\n      dtype='object')"
     },
     "execution_count": 2,
     "metadata": {},
     "output_type": "execute_result"
    }
   ],
   "source": [
    "data.columns"
   ],
   "metadata": {
    "collapsed": false
   }
  },
  {
   "cell_type": "markdown",
   "source": [
    "Acousticness: miara akustyczności od 0 do 1\n",
    "Danceability: miara taneczności od 0 do 1\n",
    "Energy: miara energiczności od 0 do 1\n",
    "Instrumentalness: miara instrumentalności od 0 do 1\n",
    "Liveness: miara obecności publiki w nagraniu od 0 do 1\n",
    "Loudness: miara głośnośći w decybelach (-60 do 0 decybeli)\n",
    "Speechiness: miara słów w piosence od 0 do 1\n",
    "Valence: miara od 0 do 1 opisująca pozytywność przekazywaną przez piosenkę\n",
    "Tempo: tempo piosenki w BMP (uderzeń na minutę)"
   ],
   "metadata": {
    "collapsed": false
   }
  },
  {
   "cell_type": "markdown",
   "source": [
    "Usuniemy zbędne kolumny, \"uri\", ponieważ URL piosenki nie jest potrzebny oraz dwie pierwsze kolumny"
   ],
   "metadata": {
    "collapsed": false
   }
  },
  {
   "cell_type": "code",
   "execution_count": 3,
   "outputs": [],
   "source": [
    "cols=[\"Unnamed: 0.1\", \"Unnamed: 0\",\"uri\"]\n",
    "data=data.drop(cols ,axis=1)"
   ],
   "metadata": {
    "collapsed": false
   }
  },
  {
   "cell_type": "code",
   "execution_count": 4,
   "outputs": [
    {
     "data": {
      "text/plain": "   duration (ms)  danceability  energy  loudness  speechiness  acousticness  \\\n0       195000.0         0.611   0.614    -8.815       0.0672        0.0169   \n1       194641.0         0.638   0.781    -6.848       0.0285        0.0118   \n2       217573.0         0.560   0.810    -8.029       0.0872        0.0071   \n3       443478.0         0.525   0.699    -4.571       0.0353        0.0178   \n4       225862.0         0.367   0.771    -5.863       0.1060        0.3650   \n\n   instrumentalness  liveness  valence    tempo     spec_rate  labels  \n0          0.000794    0.7530    0.520  128.050  3.446154e-07       2  \n1          0.009530    0.3490    0.250  122.985  1.464234e-07       1  \n2          0.000008    0.2410    0.247  170.044  4.007850e-07       1  \n3          0.000088    0.0888    0.199   92.011  7.959809e-08       0  \n4          0.000001    0.0965    0.163  115.917  4.693131e-07       1  ",
      "text/html": "<div>\n<style scoped>\n    .dataframe tbody tr th:only-of-type {\n        vertical-align: middle;\n    }\n\n    .dataframe tbody tr th {\n        vertical-align: top;\n    }\n\n    .dataframe thead th {\n        text-align: right;\n    }\n</style>\n<table border=\"1\" class=\"dataframe\">\n  <thead>\n    <tr style=\"text-align: right;\">\n      <th></th>\n      <th>duration (ms)</th>\n      <th>danceability</th>\n      <th>energy</th>\n      <th>loudness</th>\n      <th>speechiness</th>\n      <th>acousticness</th>\n      <th>instrumentalness</th>\n      <th>liveness</th>\n      <th>valence</th>\n      <th>tempo</th>\n      <th>spec_rate</th>\n      <th>labels</th>\n    </tr>\n  </thead>\n  <tbody>\n    <tr>\n      <th>0</th>\n      <td>195000.0</td>\n      <td>0.611</td>\n      <td>0.614</td>\n      <td>-8.815</td>\n      <td>0.0672</td>\n      <td>0.0169</td>\n      <td>0.000794</td>\n      <td>0.7530</td>\n      <td>0.520</td>\n      <td>128.050</td>\n      <td>3.446154e-07</td>\n      <td>2</td>\n    </tr>\n    <tr>\n      <th>1</th>\n      <td>194641.0</td>\n      <td>0.638</td>\n      <td>0.781</td>\n      <td>-6.848</td>\n      <td>0.0285</td>\n      <td>0.0118</td>\n      <td>0.009530</td>\n      <td>0.3490</td>\n      <td>0.250</td>\n      <td>122.985</td>\n      <td>1.464234e-07</td>\n      <td>1</td>\n    </tr>\n    <tr>\n      <th>2</th>\n      <td>217573.0</td>\n      <td>0.560</td>\n      <td>0.810</td>\n      <td>-8.029</td>\n      <td>0.0872</td>\n      <td>0.0071</td>\n      <td>0.000008</td>\n      <td>0.2410</td>\n      <td>0.247</td>\n      <td>170.044</td>\n      <td>4.007850e-07</td>\n      <td>1</td>\n    </tr>\n    <tr>\n      <th>3</th>\n      <td>443478.0</td>\n      <td>0.525</td>\n      <td>0.699</td>\n      <td>-4.571</td>\n      <td>0.0353</td>\n      <td>0.0178</td>\n      <td>0.000088</td>\n      <td>0.0888</td>\n      <td>0.199</td>\n      <td>92.011</td>\n      <td>7.959809e-08</td>\n      <td>0</td>\n    </tr>\n    <tr>\n      <th>4</th>\n      <td>225862.0</td>\n      <td>0.367</td>\n      <td>0.771</td>\n      <td>-5.863</td>\n      <td>0.1060</td>\n      <td>0.3650</td>\n      <td>0.000001</td>\n      <td>0.0965</td>\n      <td>0.163</td>\n      <td>115.917</td>\n      <td>4.693131e-07</td>\n      <td>1</td>\n    </tr>\n  </tbody>\n</table>\n</div>"
     },
     "execution_count": 4,
     "metadata": {},
     "output_type": "execute_result"
    }
   ],
   "source": [
    "data.head()"
   ],
   "metadata": {
    "collapsed": false
   }
  },
  {
   "cell_type": "markdown",
   "source": [
    "Podzielimy zbiór na część testową i treningową"
   ],
   "metadata": {
    "collapsed": false
   }
  },
  {
   "cell_type": "code",
   "execution_count": 12,
   "outputs": [
    {
     "data": {
      "text/plain": "0         2\n1         1\n2         1\n3         0\n4         1\n         ..\n277933    1\n277934    1\n277935    2\n277936    1\n277937    1\nName: labels, Length: 277938, dtype: int64"
     },
     "execution_count": 12,
     "metadata": {},
     "output_type": "execute_result"
    }
   ],
   "source": [
    "X = data.drop('labels', axis=1)\n",
    "y = data.labels\n",
    "\n"
   ],
   "metadata": {
    "collapsed": false
   }
  }
 ],
 "metadata": {
  "kernelspec": {
   "name": "ailab",
   "language": "python",
   "display_name": "AILAB"
  },
  "language_info": {
   "codemirror_mode": {
    "name": "ipython",
    "version": 2
   },
   "file_extension": ".py",
   "mimetype": "text/x-python",
   "name": "python",
   "nbconvert_exporter": "python",
   "pygments_lexer": "ipython2",
   "version": "2.7.6"
  }
 },
 "nbformat": 4,
 "nbformat_minor": 0
}
